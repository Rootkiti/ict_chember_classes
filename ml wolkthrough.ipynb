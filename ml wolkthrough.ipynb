{
 "cells": [
  {
   "cell_type": "markdown",
   "metadata": {},
   "source": [
    "### 1. Data science Workflows/ML project Walkthrough"
   ]
  },
  {
   "cell_type": "code",
   "execution_count": 98,
   "metadata": {},
   "outputs": [],
   "source": [
    "import pandas as pd\n"
   ]
  },
  {
   "cell_type": "code",
   "execution_count": 99,
   "metadata": {},
   "outputs": [
    {
     "data": {
      "text/html": [
       "<div>\n",
       "<style scoped>\n",
       "    .dataframe tbody tr th:only-of-type {\n",
       "        vertical-align: middle;\n",
       "    }\n",
       "\n",
       "    .dataframe tbody tr th {\n",
       "        vertical-align: top;\n",
       "    }\n",
       "\n",
       "    .dataframe thead th {\n",
       "        text-align: right;\n",
       "    }\n",
       "</style>\n",
       "<table border=\"1\" class=\"dataframe\">\n",
       "  <thead>\n",
       "    <tr style=\"text-align: right;\">\n",
       "      <th></th>\n",
       "      <th>Number</th>\n",
       "      <th>Location</th>\n",
       "      <th>Area</th>\n",
       "      <th>Price</th>\n",
       "      <th>Bedrooms</th>\n",
       "      <th>Bathrooms</th>\n",
       "      <th>Wardrobes</th>\n",
       "      <th>Cabinets</th>\n",
       "      <th>Balcony</th>\n",
       "      <th>Parking</th>\n",
       "      <th>Quarters</th>\n",
       "    </tr>\n",
       "  </thead>\n",
       "  <tbody>\n",
       "    <tr>\n",
       "      <th>0</th>\n",
       "      <td>1</td>\n",
       "      <td>Kinyinya</td>\n",
       "      <td>25/35 m</td>\n",
       "      <td>55 000 000  Rwf</td>\n",
       "      <td>4.0</td>\n",
       "      <td>1.0</td>\n",
       "      <td>NaN</td>\n",
       "      <td>NaN</td>\n",
       "      <td>NaN</td>\n",
       "      <td>Yes</td>\n",
       "      <td>Yes</td>\n",
       "    </tr>\n",
       "    <tr>\n",
       "      <th>1</th>\n",
       "      <td>2</td>\n",
       "      <td>Gacuriro</td>\n",
       "      <td>sqm</td>\n",
       "      <td>180 000 000  Rwf</td>\n",
       "      <td>4.0</td>\n",
       "      <td>4.0</td>\n",
       "      <td>NaN</td>\n",
       "      <td>NaN</td>\n",
       "      <td>Yes</td>\n",
       "      <td>NaN</td>\n",
       "      <td>NaN</td>\n",
       "    </tr>\n",
       "    <tr>\n",
       "      <th>2</th>\n",
       "      <td>3</td>\n",
       "      <td>Kabeza</td>\n",
       "      <td>25/30 m</td>\n",
       "      <td>45 000 000  Rwf</td>\n",
       "      <td>4.0</td>\n",
       "      <td>3.0</td>\n",
       "      <td>NaN</td>\n",
       "      <td>NaN</td>\n",
       "      <td>NaN</td>\n",
       "      <td>NaN</td>\n",
       "      <td>NaN</td>\n",
       "    </tr>\n",
       "    <tr>\n",
       "      <th>3</th>\n",
       "      <td>4</td>\n",
       "      <td>NaN</td>\n",
       "      <td>sqm</td>\n",
       "      <td>8 500 000  Rwf</td>\n",
       "      <td>3.0</td>\n",
       "      <td>NaN</td>\n",
       "      <td>NaN</td>\n",
       "      <td>NaN</td>\n",
       "      <td>NaN</td>\n",
       "      <td>NaN</td>\n",
       "      <td>NaN</td>\n",
       "    </tr>\n",
       "    <tr>\n",
       "      <th>4</th>\n",
       "      <td>5</td>\n",
       "      <td>Kimironko</td>\n",
       "      <td>sqm</td>\n",
       "      <td>28 000 000  Rwf</td>\n",
       "      <td>4.0</td>\n",
       "      <td>3.0</td>\n",
       "      <td>Yes</td>\n",
       "      <td>Yes</td>\n",
       "      <td>Yes</td>\n",
       "      <td>Yes</td>\n",
       "      <td>Yes</td>\n",
       "    </tr>\n",
       "  </tbody>\n",
       "</table>\n",
       "</div>"
      ],
      "text/plain": [
       "   Number   Location     Area             Price  Bedrooms  Bathrooms  \\\n",
       "0       1   Kinyinya  25/35 m   55 000 000  Rwf       4.0        1.0   \n",
       "1       2   Gacuriro      sqm  180 000 000  Rwf       4.0        4.0   \n",
       "2       3     Kabeza  25/30 m   45 000 000  Rwf       4.0        3.0   \n",
       "3       4        NaN      sqm    8 500 000  Rwf       3.0        NaN   \n",
       "4       5  Kimironko      sqm   28 000 000  Rwf       4.0        3.0   \n",
       "\n",
       "  Wardrobes Cabinets Balcony Parking Quarters  \n",
       "0       NaN      NaN     NaN     Yes      Yes  \n",
       "1       NaN      NaN     Yes     NaN      NaN  \n",
       "2       NaN      NaN     NaN     NaN      NaN  \n",
       "3       NaN      NaN     NaN     NaN      NaN  \n",
       "4       Yes      Yes     Yes     Yes      Yes  "
      ]
     },
     "execution_count": 99,
     "metadata": {},
     "output_type": "execute_result"
    }
   ],
   "source": [
    "house_data = pd.read_csv(\"datasets/kigali houses data.csv\")\n",
    "house_data.head()"
   ]
  },
  {
   "cell_type": "code",
   "execution_count": 100,
   "metadata": {},
   "outputs": [
    {
     "name": "stdout",
     "output_type": "stream",
     "text": [
      "<class 'pandas.core.frame.DataFrame'>\n",
      "RangeIndex: 4799 entries, 0 to 4798\n",
      "Data columns (total 11 columns):\n",
      " #   Column      Non-Null Count  Dtype  \n",
      "---  ------      --------------  -----  \n",
      " 0   Number      4799 non-null   int64  \n",
      " 1     Location  4241 non-null   object \n",
      " 2     Area      4799 non-null   object \n",
      " 3     Price     4799 non-null   object \n",
      " 4   Bedrooms    4270 non-null   float64\n",
      " 5   Bathrooms   4510 non-null   float64\n",
      " 6   Wardrobes   1021 non-null   object \n",
      " 7   Cabinets    1466 non-null   object \n",
      " 8   Balcony     1074 non-null   object \n",
      " 9   Parking     3220 non-null   object \n",
      " 10  Quarters    2820 non-null   object \n",
      "dtypes: float64(2), int64(1), object(8)\n",
      "memory usage: 412.5+ KB\n"
     ]
    }
   ],
   "source": [
    "house_data.info()"
   ]
  },
  {
   "cell_type": "code",
   "execution_count": 101,
   "metadata": {},
   "outputs": [
    {
     "data": {
      "text/plain": [
       "Number        4799\n",
       "  Location     119\n",
       "  Area         146\n",
       "  Price        165\n",
       "Bedrooms        15\n",
       "Bathrooms       11\n",
       "Wardrobes        2\n",
       "Cabinets         2\n",
       "Balcony          2\n",
       "Parking          2\n",
       "Quarters         2\n",
       "dtype: int64"
      ]
     },
     "execution_count": 101,
     "metadata": {},
     "output_type": "execute_result"
    }
   ],
   "source": [
    "house_data.nunique(dropna=False)"
   ]
  },
  {
   "cell_type": "code",
   "execution_count": 102,
   "metadata": {},
   "outputs": [
    {
     "data": {
      "text/html": [
       "<div>\n",
       "<style scoped>\n",
       "    .dataframe tbody tr th:only-of-type {\n",
       "        vertical-align: middle;\n",
       "    }\n",
       "\n",
       "    .dataframe tbody tr th {\n",
       "        vertical-align: top;\n",
       "    }\n",
       "\n",
       "    .dataframe thead th {\n",
       "        text-align: right;\n",
       "    }\n",
       "</style>\n",
       "<table border=\"1\" class=\"dataframe\">\n",
       "  <thead>\n",
       "    <tr style=\"text-align: right;\">\n",
       "      <th></th>\n",
       "      <th>Location</th>\n",
       "      <th>Area</th>\n",
       "      <th>Price</th>\n",
       "      <th>Bedrooms</th>\n",
       "      <th>Bathrooms</th>\n",
       "      <th>Wardrobes</th>\n",
       "      <th>Cabinets</th>\n",
       "      <th>Balcony</th>\n",
       "      <th>Parking</th>\n",
       "      <th>Quarters</th>\n",
       "    </tr>\n",
       "  </thead>\n",
       "  <tbody>\n",
       "    <tr>\n",
       "      <th>0</th>\n",
       "      <td>Kinyinya</td>\n",
       "      <td>25/35 m</td>\n",
       "      <td>55 000 000  Rwf</td>\n",
       "      <td>4.0</td>\n",
       "      <td>1.0</td>\n",
       "      <td>NaN</td>\n",
       "      <td>NaN</td>\n",
       "      <td>NaN</td>\n",
       "      <td>Yes</td>\n",
       "      <td>Yes</td>\n",
       "    </tr>\n",
       "    <tr>\n",
       "      <th>1</th>\n",
       "      <td>Gacuriro</td>\n",
       "      <td>sqm</td>\n",
       "      <td>180 000 000  Rwf</td>\n",
       "      <td>4.0</td>\n",
       "      <td>4.0</td>\n",
       "      <td>NaN</td>\n",
       "      <td>NaN</td>\n",
       "      <td>Yes</td>\n",
       "      <td>NaN</td>\n",
       "      <td>NaN</td>\n",
       "    </tr>\n",
       "    <tr>\n",
       "      <th>2</th>\n",
       "      <td>Kabeza</td>\n",
       "      <td>25/30 m</td>\n",
       "      <td>45 000 000  Rwf</td>\n",
       "      <td>4.0</td>\n",
       "      <td>3.0</td>\n",
       "      <td>NaN</td>\n",
       "      <td>NaN</td>\n",
       "      <td>NaN</td>\n",
       "      <td>NaN</td>\n",
       "      <td>NaN</td>\n",
       "    </tr>\n",
       "    <tr>\n",
       "      <th>3</th>\n",
       "      <td>NaN</td>\n",
       "      <td>sqm</td>\n",
       "      <td>8 500 000  Rwf</td>\n",
       "      <td>3.0</td>\n",
       "      <td>NaN</td>\n",
       "      <td>NaN</td>\n",
       "      <td>NaN</td>\n",
       "      <td>NaN</td>\n",
       "      <td>NaN</td>\n",
       "      <td>NaN</td>\n",
       "    </tr>\n",
       "    <tr>\n",
       "      <th>4</th>\n",
       "      <td>Kimironko</td>\n",
       "      <td>sqm</td>\n",
       "      <td>28 000 000  Rwf</td>\n",
       "      <td>4.0</td>\n",
       "      <td>3.0</td>\n",
       "      <td>Yes</td>\n",
       "      <td>Yes</td>\n",
       "      <td>Yes</td>\n",
       "      <td>Yes</td>\n",
       "      <td>Yes</td>\n",
       "    </tr>\n",
       "    <tr>\n",
       "      <th>...</th>\n",
       "      <td>...</td>\n",
       "      <td>...</td>\n",
       "      <td>...</td>\n",
       "      <td>...</td>\n",
       "      <td>...</td>\n",
       "      <td>...</td>\n",
       "      <td>...</td>\n",
       "      <td>...</td>\n",
       "      <td>...</td>\n",
       "      <td>...</td>\n",
       "    </tr>\n",
       "    <tr>\n",
       "      <th>4794</th>\n",
       "      <td>Kanombe</td>\n",
       "      <td>sqm</td>\n",
       "      <td>52 000 000  Rwf</td>\n",
       "      <td>4.0</td>\n",
       "      <td>3.0</td>\n",
       "      <td>NaN</td>\n",
       "      <td>Yes</td>\n",
       "      <td>NaN</td>\n",
       "      <td>NaN</td>\n",
       "      <td>NaN</td>\n",
       "    </tr>\n",
       "    <tr>\n",
       "      <th>4795</th>\n",
       "      <td>NaN</td>\n",
       "      <td>500 sqm</td>\n",
       "      <td>14 000 000  Rwf</td>\n",
       "      <td>5.0</td>\n",
       "      <td>2.0</td>\n",
       "      <td>NaN</td>\n",
       "      <td>NaN</td>\n",
       "      <td>Yes</td>\n",
       "      <td>NaN</td>\n",
       "      <td>Yes</td>\n",
       "    </tr>\n",
       "    <tr>\n",
       "      <th>4796</th>\n",
       "      <td>Rugende</td>\n",
       "      <td>945 sqm</td>\n",
       "      <td>28 500 000  Rwf</td>\n",
       "      <td>5.0</td>\n",
       "      <td>3.0</td>\n",
       "      <td>NaN</td>\n",
       "      <td>NaN</td>\n",
       "      <td>NaN</td>\n",
       "      <td>NaN</td>\n",
       "      <td>NaN</td>\n",
       "    </tr>\n",
       "    <tr>\n",
       "      <th>4797</th>\n",
       "      <td>Kabuga</td>\n",
       "      <td>30/20 m</td>\n",
       "      <td>15 000 000  Rwf</td>\n",
       "      <td>4.0</td>\n",
       "      <td>1.0</td>\n",
       "      <td>Yes</td>\n",
       "      <td>Yes</td>\n",
       "      <td>Yes</td>\n",
       "      <td>Yes</td>\n",
       "      <td>NaN</td>\n",
       "    </tr>\n",
       "    <tr>\n",
       "      <th>4798</th>\n",
       "      <td>Kabuga</td>\n",
       "      <td>sqm</td>\n",
       "      <td>30 000 000  Rwf</td>\n",
       "      <td>3.0</td>\n",
       "      <td>2.0</td>\n",
       "      <td>NaN</td>\n",
       "      <td>NaN</td>\n",
       "      <td>Yes</td>\n",
       "      <td>NaN</td>\n",
       "      <td>NaN</td>\n",
       "    </tr>\n",
       "  </tbody>\n",
       "</table>\n",
       "<p>4799 rows × 10 columns</p>\n",
       "</div>"
      ],
      "text/plain": [
       "       Location     Area             Price  Bedrooms  Bathrooms Wardrobes  \\\n",
       "0      Kinyinya  25/35 m   55 000 000  Rwf       4.0        1.0       NaN   \n",
       "1      Gacuriro      sqm  180 000 000  Rwf       4.0        4.0       NaN   \n",
       "2        Kabeza  25/30 m   45 000 000  Rwf       4.0        3.0       NaN   \n",
       "3           NaN      sqm    8 500 000  Rwf       3.0        NaN       NaN   \n",
       "4     Kimironko      sqm   28 000 000  Rwf       4.0        3.0       Yes   \n",
       "...         ...      ...               ...       ...        ...       ...   \n",
       "4794    Kanombe      sqm   52 000 000  Rwf       4.0        3.0       NaN   \n",
       "4795        NaN  500 sqm   14 000 000  Rwf       5.0        2.0       NaN   \n",
       "4796    Rugende  945 sqm   28 500 000  Rwf       5.0        3.0       NaN   \n",
       "4797     Kabuga  30/20 m   15 000 000  Rwf       4.0        1.0       Yes   \n",
       "4798     Kabuga      sqm   30 000 000  Rwf       3.0        2.0       NaN   \n",
       "\n",
       "     Cabinets Balcony Parking Quarters  \n",
       "0         NaN     NaN     Yes      Yes  \n",
       "1         NaN     Yes     NaN      NaN  \n",
       "2         NaN     NaN     NaN      NaN  \n",
       "3         NaN     NaN     NaN      NaN  \n",
       "4         Yes     Yes     Yes      Yes  \n",
       "...       ...     ...     ...      ...  \n",
       "4794      Yes     NaN     NaN      NaN  \n",
       "4795      NaN     Yes     NaN      Yes  \n",
       "4796      NaN     NaN     NaN      NaN  \n",
       "4797      Yes     Yes     Yes      NaN  \n",
       "4798      NaN     Yes     NaN      NaN  \n",
       "\n",
       "[4799 rows x 10 columns]"
      ]
     },
     "execution_count": 102,
     "metadata": {},
     "output_type": "execute_result"
    }
   ],
   "source": [
    "house_data.drop(columns='Number', inplace=True)\n",
    "house_data"
   ]
  },
  {
   "cell_type": "code",
   "execution_count": 103,
   "metadata": {},
   "outputs": [],
   "source": [
    "nu = house_data.isnull().sum()"
   ]
  },
  {
   "cell_type": "code",
   "execution_count": 104,
   "metadata": {},
   "outputs": [],
   "source": [
    "import matplotlib.pyplot as plt\n",
    "import seaborn as sns\n",
    "def plot_missing_values(df):\n",
    "    \"\"\"\n",
    "    Shows the distribution of the non-missing vs mising values.\n",
    "    \"\"\"\n",
    "    plt.figure(figsize=(10, 5))\n",
    "    plt.title('Distribution of Missing Values')\n",
    "    sns.heatmap(df.isnull(), cbar=False)\n"
   ]
  },
  {
   "cell_type": "code",
   "execution_count": 105,
   "metadata": {},
   "outputs": [
    {
     "data": {
      "image/png": "[encoded data removed]",
      "text/plain": [
       "<Figure size 1000x500 with 1 Axes>"
      ]
     },
     "metadata": {},
     "output_type": "display_data"
    }
   ],
   "source": [
    "plot_missing_values(house_data)"
   ]
  },
  {
   "cell_type": "code",
   "execution_count": 106,
   "metadata": {},
   "outputs": [
    {
     "data": {
      "image/png": "[encoded data removed]",
      "text/plain": [
       "<Figure size 640x480 with 2 Axes>"
      ]
     },
     "metadata": {},
     "output_type": "display_data"
    }
   ],
   "source": [
    "sns.heatmap(house_data.isnull());"
   ]
  },
  {
   "cell_type": "code",
   "execution_count": 107,
   "metadata": {},
   "outputs": [
    {
     "data": {
      "text/plain": [
       "Index(['location', 'area', 'price', 'bedrooms', 'bathrooms', 'wardrobes',\n",
       "       'cabinets', 'balcony', 'parking', 'quarters'],\n",
       "      dtype='object')"
      ]
     },
     "execution_count": 107,
     "metadata": {},
     "output_type": "execute_result"
    }
   ],
   "source": [
    "### 2. \n",
    "house_data.columns = house_data.columns.str.strip().str.lower()\n",
    "house_data.columns"
   ]
  },
  {
   "cell_type": "code",
   "execution_count": 108,
   "metadata": {},
   "outputs": [
    {
     "data": {
      "text/plain": [
       " sqm        1809\n",
       "25/30 m      730\n",
       "20/30 m      494\n",
       "25/20 m      232\n",
       "30/20 m      158\n",
       "            ... \n",
       "1/238 m        1\n",
       "320 sqm        1\n",
       "2383 sqm       1\n",
       "18/25 m        1\n",
       "1399 sqm       1\n",
       "Name: area, Length: 146, dtype: int64"
      ]
     },
     "execution_count": 108,
     "metadata": {},
     "output_type": "execute_result"
    }
   ],
   "source": [
    "house_data['area'].value_counts()"
   ]
  },
  {
   "cell_type": "code",
   "execution_count": 109,
   "metadata": {},
   "outputs": [],
   "source": [
    "def clean_area(area):\n",
    "    # Split the string by space\n",
    "    parts = area.split()\n",
    "    for part in parts:\n",
    "       \n",
    "        if '/' in part:\n",
    "            # Split the part by '/'\n",
    "            nums = part.split('/')\n",
    "            # Convert the numbers to integers and multiply them\n",
    "            return int(nums[0]) * int(nums[1])\n",
    "        # Check if the part contains 'sqm'\n",
    "        elif 'sqm' in part:\n",
    "            # Return None if 'sqm' is found\n",
    "            return None\n",
    "        # Check if the part contains only digits\n",
    "        elif part.isdigit():\n",
    "            # Return the number if it contains only digits\n",
    "            return int(part)\n",
    "    # Return None if no valid number is found\n",
    "    return None\n",
    "\n",
    "\n"
   ]
  },
  {
   "cell_type": "code",
   "execution_count": 110,
   "metadata": {},
   "outputs": [
    {
     "name": "stdout",
     "output_type": "stream",
     "text": [
      "1400\n"
     ]
    }
   ],
   "source": [
    "print(clean_area('20/70 m'))"
   ]
  },
  {
   "cell_type": "code",
   "execution_count": 111,
   "metadata": {},
   "outputs": [
    {
     "data": {
      "text/plain": [
       "55 000 000  Rwf     321\n",
       "65 000 000  Rwf     271\n",
       "60 000 000  Rwf     262\n",
       "50 000 000  Rwf     256\n",
       "35 000 000  Rwf     200\n",
       "                   ... \n",
       "13 500  Rwf           1\n",
       "500 000  Rwf          1\n",
       "211 000 000  Rwf      1\n",
       " 75 000 $             1\n",
       "7 500 000  Rwf        1\n",
       "Name: price, Length: 165, dtype: int64"
      ]
     },
     "execution_count": 111,
     "metadata": {},
     "output_type": "execute_result"
    }
   ],
   "source": [
    "house_data['clean_area'] = house_data['area'].apply(clean_area)\n",
    "house_data['price'].value_counts()"
   ]
  },
  {
   "cell_type": "code",
   "execution_count": 112,
   "metadata": {},
   "outputs": [],
   "source": [
    "def clean_price(price):\n",
    "    \n",
    "    price = price.lower()\n",
    "    if 'rwf' in price:\n",
    "        cln_price = price.replace('rwf', '').replace(' rwf', '').replace('rwf ', '').replace(' ','')\n",
    "        return int(cln_price)\n",
    "    elif '$' in price:\n",
    "        cln_price = price.replace('$', '').replace(' $', '').replace('$ ', '').replace(' ','').replace('  ','')\n",
    "        return int(cln_price) * 1300\n",
    "    else:\n",
    "        return None"
   ]
  },
  {
   "cell_type": "code",
   "execution_count": 113,
   "metadata": {},
   "outputs": [
    {
     "data": {
      "text/html": [
       "<div>\n",
       "<style scoped>\n",
       "    .dataframe tbody tr th:only-of-type {\n",
       "        vertical-align: middle;\n",
       "    }\n",
       "\n",
       "    .dataframe tbody tr th {\n",
       "        vertical-align: top;\n",
       "    }\n",
       "\n",
       "    .dataframe thead th {\n",
       "        text-align: right;\n",
       "    }\n",
       "</style>\n",
       "<table border=\"1\" class=\"dataframe\">\n",
       "  <thead>\n",
       "    <tr style=\"text-align: right;\">\n",
       "      <th></th>\n",
       "      <th>location</th>\n",
       "      <th>area</th>\n",
       "      <th>price</th>\n",
       "      <th>bedrooms</th>\n",
       "      <th>bathrooms</th>\n",
       "      <th>wardrobes</th>\n",
       "      <th>cabinets</th>\n",
       "      <th>balcony</th>\n",
       "      <th>parking</th>\n",
       "      <th>quarters</th>\n",
       "      <th>clean_area</th>\n",
       "      <th>clean_price</th>\n",
       "    </tr>\n",
       "  </thead>\n",
       "  <tbody>\n",
       "    <tr>\n",
       "      <th>0</th>\n",
       "      <td>Kinyinya</td>\n",
       "      <td>25/35 m</td>\n",
       "      <td>55 000 000  Rwf</td>\n",
       "      <td>4.0</td>\n",
       "      <td>1.0</td>\n",
       "      <td>NaN</td>\n",
       "      <td>NaN</td>\n",
       "      <td>NaN</td>\n",
       "      <td>Yes</td>\n",
       "      <td>Yes</td>\n",
       "      <td>875.0</td>\n",
       "      <td>55000000.0</td>\n",
       "    </tr>\n",
       "    <tr>\n",
       "      <th>1</th>\n",
       "      <td>Gacuriro</td>\n",
       "      <td>sqm</td>\n",
       "      <td>180 000 000  Rwf</td>\n",
       "      <td>4.0</td>\n",
       "      <td>4.0</td>\n",
       "      <td>NaN</td>\n",
       "      <td>NaN</td>\n",
       "      <td>Yes</td>\n",
       "      <td>NaN</td>\n",
       "      <td>NaN</td>\n",
       "      <td>NaN</td>\n",
       "      <td>180000000.0</td>\n",
       "    </tr>\n",
       "    <tr>\n",
       "      <th>2</th>\n",
       "      <td>Kabeza</td>\n",
       "      <td>25/30 m</td>\n",
       "      <td>45 000 000  Rwf</td>\n",
       "      <td>4.0</td>\n",
       "      <td>3.0</td>\n",
       "      <td>NaN</td>\n",
       "      <td>NaN</td>\n",
       "      <td>NaN</td>\n",
       "      <td>NaN</td>\n",
       "      <td>NaN</td>\n",
       "      <td>750.0</td>\n",
       "      <td>45000000.0</td>\n",
       "    </tr>\n",
       "    <tr>\n",
       "      <th>3</th>\n",
       "      <td>NaN</td>\n",
       "      <td>sqm</td>\n",
       "      <td>8 500 000  Rwf</td>\n",
       "      <td>3.0</td>\n",
       "      <td>NaN</td>\n",
       "      <td>NaN</td>\n",
       "      <td>NaN</td>\n",
       "      <td>NaN</td>\n",
       "      <td>NaN</td>\n",
       "      <td>NaN</td>\n",
       "      <td>NaN</td>\n",
       "      <td>8500000.0</td>\n",
       "    </tr>\n",
       "    <tr>\n",
       "      <th>4</th>\n",
       "      <td>Kimironko</td>\n",
       "      <td>sqm</td>\n",
       "      <td>28 000 000  Rwf</td>\n",
       "      <td>4.0</td>\n",
       "      <td>3.0</td>\n",
       "      <td>Yes</td>\n",
       "      <td>Yes</td>\n",
       "      <td>Yes</td>\n",
       "      <td>Yes</td>\n",
       "      <td>Yes</td>\n",
       "      <td>NaN</td>\n",
       "      <td>28000000.0</td>\n",
       "    </tr>\n",
       "    <tr>\n",
       "      <th>...</th>\n",
       "      <td>...</td>\n",
       "      <td>...</td>\n",
       "      <td>...</td>\n",
       "      <td>...</td>\n",
       "      <td>...</td>\n",
       "      <td>...</td>\n",
       "      <td>...</td>\n",
       "      <td>...</td>\n",
       "      <td>...</td>\n",
       "      <td>...</td>\n",
       "      <td>...</td>\n",
       "      <td>...</td>\n",
       "    </tr>\n",
       "    <tr>\n",
       "      <th>4794</th>\n",
       "      <td>Kanombe</td>\n",
       "      <td>sqm</td>\n",
       "      <td>52 000 000  Rwf</td>\n",
       "      <td>4.0</td>\n",
       "      <td>3.0</td>\n",
       "      <td>NaN</td>\n",
       "      <td>Yes</td>\n",
       "      <td>NaN</td>\n",
       "      <td>NaN</td>\n",
       "      <td>NaN</td>\n",
       "      <td>NaN</td>\n",
       "      <td>52000000.0</td>\n",
       "    </tr>\n",
       "    <tr>\n",
       "      <th>4795</th>\n",
       "      <td>NaN</td>\n",
       "      <td>500 sqm</td>\n",
       "      <td>14 000 000  Rwf</td>\n",
       "      <td>5.0</td>\n",
       "      <td>2.0</td>\n",
       "      <td>NaN</td>\n",
       "      <td>NaN</td>\n",
       "      <td>Yes</td>\n",
       "      <td>NaN</td>\n",
       "      <td>Yes</td>\n",
       "      <td>500.0</td>\n",
       "      <td>14000000.0</td>\n",
       "    </tr>\n",
       "    <tr>\n",
       "      <th>4796</th>\n",
       "      <td>Rugende</td>\n",
       "      <td>945 sqm</td>\n",
       "      <td>28 500 000  Rwf</td>\n",
       "      <td>5.0</td>\n",
       "      <td>3.0</td>\n",
       "      <td>NaN</td>\n",
       "      <td>NaN</td>\n",
       "      <td>NaN</td>\n",
       "      <td>NaN</td>\n",
       "      <td>NaN</td>\n",
       "      <td>945.0</td>\n",
       "      <td>28500000.0</td>\n",
       "    </tr>\n",
       "    <tr>\n",
       "      <th>4797</th>\n",
       "      <td>Kabuga</td>\n",
       "      <td>30/20 m</td>\n",
       "      <td>15 000 000  Rwf</td>\n",
       "      <td>4.0</td>\n",
       "      <td>1.0</td>\n",
       "      <td>Yes</td>\n",
       "      <td>Yes</td>\n",
       "      <td>Yes</td>\n",
       "      <td>Yes</td>\n",
       "      <td>NaN</td>\n",
       "      <td>600.0</td>\n",
       "      <td>15000000.0</td>\n",
       "    </tr>\n",
       "    <tr>\n",
       "      <th>4798</th>\n",
       "      <td>Kabuga</td>\n",
       "      <td>sqm</td>\n",
       "      <td>30 000 000  Rwf</td>\n",
       "      <td>3.0</td>\n",
       "      <td>2.0</td>\n",
       "      <td>NaN</td>\n",
       "      <td>NaN</td>\n",
       "      <td>Yes</td>\n",
       "      <td>NaN</td>\n",
       "      <td>NaN</td>\n",
       "      <td>NaN</td>\n",
       "      <td>30000000.0</td>\n",
       "    </tr>\n",
       "  </tbody>\n",
       "</table>\n",
       "<p>4799 rows × 12 columns</p>\n",
       "</div>"
      ],
      "text/plain": [
       "       location     area             price  bedrooms  bathrooms wardrobes  \\\n",
       "0      Kinyinya  25/35 m   55 000 000  Rwf       4.0        1.0       NaN   \n",
       "1      Gacuriro      sqm  180 000 000  Rwf       4.0        4.0       NaN   \n",
       "2        Kabeza  25/30 m   45 000 000  Rwf       4.0        3.0       NaN   \n",
       "3           NaN      sqm    8 500 000  Rwf       3.0        NaN       NaN   \n",
       "4     Kimironko      sqm   28 000 000  Rwf       4.0        3.0       Yes   \n",
       "...         ...      ...               ...       ...        ...       ...   \n",
       "4794    Kanombe      sqm   52 000 000  Rwf       4.0        3.0       NaN   \n",
       "4795        NaN  500 sqm   14 000 000  Rwf       5.0        2.0       NaN   \n",
       "4796    Rugende  945 sqm   28 500 000  Rwf       5.0        3.0       NaN   \n",
       "4797     Kabuga  30/20 m   15 000 000  Rwf       4.0        1.0       Yes   \n",
       "4798     Kabuga      sqm   30 000 000  Rwf       3.0        2.0       NaN   \n",
       "\n",
       "     cabinets balcony parking quarters  clean_area  clean_price  \n",
       "0         NaN     NaN     Yes      Yes       875.0   55000000.0  \n",
       "1         NaN     Yes     NaN      NaN         NaN  180000000.0  \n",
       "2         NaN     NaN     NaN      NaN       750.0   45000000.0  \n",
       "3         NaN     NaN     NaN      NaN         NaN    8500000.0  \n",
       "4         Yes     Yes     Yes      Yes         NaN   28000000.0  \n",
       "...       ...     ...     ...      ...         ...          ...  \n",
       "4794      Yes     NaN     NaN      NaN         NaN   52000000.0  \n",
       "4795      NaN     Yes     NaN      Yes       500.0   14000000.0  \n",
       "4796      NaN     NaN     NaN      NaN       945.0   28500000.0  \n",
       "4797      Yes     Yes     Yes      NaN       600.0   15000000.0  \n",
       "4798      NaN     Yes     NaN      NaN         NaN   30000000.0  \n",
       "\n",
       "[4799 rows x 12 columns]"
      ]
     },
     "execution_count": 113,
     "metadata": {},
     "output_type": "execute_result"
    }
   ],
   "source": [
    "house_data['clean_price'] = house_data['price'].apply(clean_price)\n",
    "house_data"
   ]
  },
  {
   "cell_type": "code",
   "execution_count": 114,
   "metadata": {},
   "outputs": [
    {
     "data": {
      "text/plain": [
       "Kanombe        814\n",
       "Kibagabaga     658\n",
       "Kimironko      524\n",
       "Kicukiro       423\n",
       "Gacuriro       216\n",
       "              ... \n",
       "S                1\n",
       "Gisimenti        1\n",
       "Kianombe         1\n",
       "Residential      1\n",
       "Kicukiri         1\n",
       "Name: location, Length: 118, dtype: int64"
      ]
     },
     "execution_count": 114,
     "metadata": {},
     "output_type": "execute_result"
    }
   ],
   "source": [
    "house_data['location'].value_counts()"
   ]
  },
  {
   "cell_type": "code",
   "execution_count": 115,
   "metadata": {},
   "outputs": [],
   "source": [
    "neighborhoods = {'Fawe':'Gisozi','Gaposho':'Gisozi', 'Niboye':'Niboyi','Kibagaba':'Kibagabaga','Kimiromko':'Kimironko',\n",
    "                 'Rusororo':'Kabuga/Ndera/Rusororo','Ndera':'Kabuga/Ndera/Rusororo', 'Kabuga':'Kabuga/Ndera/Rusororo',\n",
    "                 'Murindi':'Kabuga/Ndera/Rusororo', 'Gasogi':'Kabuga/Ndera/Rusororo', 'Rdb':'Nyarutarama', 'Niboye':'Niboyi',\n",
    "                 'Kibagababa':'Kibagabaga', 'Gishushu':'Nyarutarama','Masizi':'Zindiro', 'Karembure':'Gahanga',\n",
    "                'Gatenga':'Gatenga/Gikondo','Gikondo':'Gatenga/Gikondo','Kibagaba':'Kibagabaga'}"
   ]
  },
  {
   "cell_type": "code",
   "execution_count": 116,
   "metadata": {},
   "outputs": [],
   "source": [
    "house_data['clean location'] =  house_data['location'].replace(neighborhoods)"
   ]
  },
  {
   "cell_type": "code",
   "execution_count": 117,
   "metadata": {},
   "outputs": [
    {
     "data": {
      "text/html": [
       "<div>\n",
       "<style scoped>\n",
       "    .dataframe tbody tr th:only-of-type {\n",
       "        vertical-align: middle;\n",
       "    }\n",
       "\n",
       "    .dataframe tbody tr th {\n",
       "        vertical-align: top;\n",
       "    }\n",
       "\n",
       "    .dataframe thead th {\n",
       "        text-align: right;\n",
       "    }\n",
       "</style>\n",
       "<table border=\"1\" class=\"dataframe\">\n",
       "  <thead>\n",
       "    <tr style=\"text-align: right;\">\n",
       "      <th></th>\n",
       "      <th>location</th>\n",
       "      <th>area</th>\n",
       "      <th>price</th>\n",
       "      <th>bedrooms</th>\n",
       "      <th>bathrooms</th>\n",
       "      <th>wardrobes</th>\n",
       "      <th>cabinets</th>\n",
       "      <th>balcony</th>\n",
       "      <th>parking</th>\n",
       "      <th>quarters</th>\n",
       "      <th>clean_area</th>\n",
       "      <th>clean_price</th>\n",
       "      <th>clean location</th>\n",
       "    </tr>\n",
       "  </thead>\n",
       "  <tbody>\n",
       "    <tr>\n",
       "      <th>0</th>\n",
       "      <td>Kinyinya</td>\n",
       "      <td>25/35 m</td>\n",
       "      <td>55 000 000  Rwf</td>\n",
       "      <td>4.0</td>\n",
       "      <td>1.0</td>\n",
       "      <td>NaN</td>\n",
       "      <td>NaN</td>\n",
       "      <td>NaN</td>\n",
       "      <td>Yes</td>\n",
       "      <td>Yes</td>\n",
       "      <td>875.0</td>\n",
       "      <td>55000000.0</td>\n",
       "      <td>Kinyinya</td>\n",
       "    </tr>\n",
       "    <tr>\n",
       "      <th>1</th>\n",
       "      <td>Gacuriro</td>\n",
       "      <td>sqm</td>\n",
       "      <td>180 000 000  Rwf</td>\n",
       "      <td>4.0</td>\n",
       "      <td>4.0</td>\n",
       "      <td>NaN</td>\n",
       "      <td>NaN</td>\n",
       "      <td>Yes</td>\n",
       "      <td>NaN</td>\n",
       "      <td>NaN</td>\n",
       "      <td>NaN</td>\n",
       "      <td>180000000.0</td>\n",
       "      <td>Gacuriro</td>\n",
       "    </tr>\n",
       "    <tr>\n",
       "      <th>2</th>\n",
       "      <td>Kabeza</td>\n",
       "      <td>25/30 m</td>\n",
       "      <td>45 000 000  Rwf</td>\n",
       "      <td>4.0</td>\n",
       "      <td>3.0</td>\n",
       "      <td>NaN</td>\n",
       "      <td>NaN</td>\n",
       "      <td>NaN</td>\n",
       "      <td>NaN</td>\n",
       "      <td>NaN</td>\n",
       "      <td>750.0</td>\n",
       "      <td>45000000.0</td>\n",
       "      <td>Kabeza</td>\n",
       "    </tr>\n",
       "    <tr>\n",
       "      <th>3</th>\n",
       "      <td>NaN</td>\n",
       "      <td>sqm</td>\n",
       "      <td>8 500 000  Rwf</td>\n",
       "      <td>3.0</td>\n",
       "      <td>NaN</td>\n",
       "      <td>NaN</td>\n",
       "      <td>NaN</td>\n",
       "      <td>NaN</td>\n",
       "      <td>NaN</td>\n",
       "      <td>NaN</td>\n",
       "      <td>NaN</td>\n",
       "      <td>8500000.0</td>\n",
       "      <td>NaN</td>\n",
       "    </tr>\n",
       "    <tr>\n",
       "      <th>4</th>\n",
       "      <td>Kimironko</td>\n",
       "      <td>sqm</td>\n",
       "      <td>28 000 000  Rwf</td>\n",
       "      <td>4.0</td>\n",
       "      <td>3.0</td>\n",
       "      <td>Yes</td>\n",
       "      <td>Yes</td>\n",
       "      <td>Yes</td>\n",
       "      <td>Yes</td>\n",
       "      <td>Yes</td>\n",
       "      <td>NaN</td>\n",
       "      <td>28000000.0</td>\n",
       "      <td>Kimironko</td>\n",
       "    </tr>\n",
       "  </tbody>\n",
       "</table>\n",
       "</div>"
      ],
      "text/plain": [
       "    location     area             price  bedrooms  bathrooms wardrobes  \\\n",
       "0   Kinyinya  25/35 m   55 000 000  Rwf       4.0        1.0       NaN   \n",
       "1   Gacuriro      sqm  180 000 000  Rwf       4.0        4.0       NaN   \n",
       "2     Kabeza  25/30 m   45 000 000  Rwf       4.0        3.0       NaN   \n",
       "3        NaN      sqm    8 500 000  Rwf       3.0        NaN       NaN   \n",
       "4  Kimironko      sqm   28 000 000  Rwf       4.0        3.0       Yes   \n",
       "\n",
       "  cabinets balcony parking quarters  clean_area  clean_price clean location  \n",
       "0      NaN     NaN     Yes      Yes       875.0   55000000.0       Kinyinya  \n",
       "1      NaN     Yes     NaN      NaN         NaN  180000000.0       Gacuriro  \n",
       "2      NaN     NaN     NaN      NaN       750.0   45000000.0         Kabeza  \n",
       "3      NaN     NaN     NaN      NaN         NaN    8500000.0            NaN  \n",
       "4      Yes     Yes     Yes      Yes         NaN   28000000.0      Kimironko  "
      ]
     },
     "execution_count": 117,
     "metadata": {},
     "output_type": "execute_result"
    }
   ],
   "source": [
    "house_data.head()"
   ]
  },
  {
   "cell_type": "code",
   "execution_count": 118,
   "metadata": {},
   "outputs": [
    {
     "data": {
      "text/plain": [
       "4799"
      ]
     },
     "execution_count": 118,
     "metadata": {},
     "output_type": "execute_result"
    }
   ],
   "source": [
    "len(house_data['clean location'])"
   ]
  },
  {
   "cell_type": "code",
   "execution_count": 119,
   "metadata": {},
   "outputs": [],
   "source": [
    "more_30 = house_data['clean location'].value_counts()[house_data['clean location'].value_counts().values >=30].index"
   ]
  },
  {
   "cell_type": "code",
   "execution_count": 120,
   "metadata": {},
   "outputs": [
    {
     "data": {
      "text/html": [
       "<div>\n",
       "<style scoped>\n",
       "    .dataframe tbody tr th:only-of-type {\n",
       "        vertical-align: middle;\n",
       "    }\n",
       "\n",
       "    .dataframe tbody tr th {\n",
       "        vertical-align: top;\n",
       "    }\n",
       "\n",
       "    .dataframe thead th {\n",
       "        text-align: right;\n",
       "    }\n",
       "</style>\n",
       "<table border=\"1\" class=\"dataframe\">\n",
       "  <thead>\n",
       "    <tr style=\"text-align: right;\">\n",
       "      <th></th>\n",
       "      <th>location</th>\n",
       "      <th>area</th>\n",
       "      <th>price</th>\n",
       "      <th>bedrooms</th>\n",
       "      <th>bathrooms</th>\n",
       "      <th>wardrobes</th>\n",
       "      <th>cabinets</th>\n",
       "      <th>balcony</th>\n",
       "      <th>parking</th>\n",
       "      <th>quarters</th>\n",
       "      <th>clean_area</th>\n",
       "      <th>clean_price</th>\n",
       "      <th>clean location</th>\n",
       "    </tr>\n",
       "  </thead>\n",
       "  <tbody>\n",
       "    <tr>\n",
       "      <th>0</th>\n",
       "      <td>Kinyinya</td>\n",
       "      <td>25/35 m</td>\n",
       "      <td>55 000 000  Rwf</td>\n",
       "      <td>4.0</td>\n",
       "      <td>1.0</td>\n",
       "      <td>NaN</td>\n",
       "      <td>NaN</td>\n",
       "      <td>NaN</td>\n",
       "      <td>Yes</td>\n",
       "      <td>Yes</td>\n",
       "      <td>875.0</td>\n",
       "      <td>55000000.0</td>\n",
       "      <td>Kinyinya</td>\n",
       "    </tr>\n",
       "    <tr>\n",
       "      <th>1</th>\n",
       "      <td>Gacuriro</td>\n",
       "      <td>sqm</td>\n",
       "      <td>180 000 000  Rwf</td>\n",
       "      <td>4.0</td>\n",
       "      <td>4.0</td>\n",
       "      <td>NaN</td>\n",
       "      <td>NaN</td>\n",
       "      <td>Yes</td>\n",
       "      <td>NaN</td>\n",
       "      <td>NaN</td>\n",
       "      <td>NaN</td>\n",
       "      <td>180000000.0</td>\n",
       "      <td>Gacuriro</td>\n",
       "    </tr>\n",
       "    <tr>\n",
       "      <th>2</th>\n",
       "      <td>Kabeza</td>\n",
       "      <td>25/30 m</td>\n",
       "      <td>45 000 000  Rwf</td>\n",
       "      <td>4.0</td>\n",
       "      <td>3.0</td>\n",
       "      <td>NaN</td>\n",
       "      <td>NaN</td>\n",
       "      <td>NaN</td>\n",
       "      <td>NaN</td>\n",
       "      <td>NaN</td>\n",
       "      <td>750.0</td>\n",
       "      <td>45000000.0</td>\n",
       "      <td>Kabeza</td>\n",
       "    </tr>\n",
       "    <tr>\n",
       "      <th>4</th>\n",
       "      <td>Kimironko</td>\n",
       "      <td>sqm</td>\n",
       "      <td>28 000 000  Rwf</td>\n",
       "      <td>4.0</td>\n",
       "      <td>3.0</td>\n",
       "      <td>Yes</td>\n",
       "      <td>Yes</td>\n",
       "      <td>Yes</td>\n",
       "      <td>Yes</td>\n",
       "      <td>Yes</td>\n",
       "      <td>NaN</td>\n",
       "      <td>28000000.0</td>\n",
       "      <td>Kimironko</td>\n",
       "    </tr>\n",
       "    <tr>\n",
       "      <th>9</th>\n",
       "      <td>Kimironko</td>\n",
       "      <td>sqm</td>\n",
       "      <td>60 000 000  Rwf</td>\n",
       "      <td>4.0</td>\n",
       "      <td>3.0</td>\n",
       "      <td>Yes</td>\n",
       "      <td>Yes</td>\n",
       "      <td>Yes</td>\n",
       "      <td>Yes</td>\n",
       "      <td>Yes</td>\n",
       "      <td>NaN</td>\n",
       "      <td>60000000.0</td>\n",
       "      <td>Kimironko</td>\n",
       "    </tr>\n",
       "    <tr>\n",
       "      <th>...</th>\n",
       "      <td>...</td>\n",
       "      <td>...</td>\n",
       "      <td>...</td>\n",
       "      <td>...</td>\n",
       "      <td>...</td>\n",
       "      <td>...</td>\n",
       "      <td>...</td>\n",
       "      <td>...</td>\n",
       "      <td>...</td>\n",
       "      <td>...</td>\n",
       "      <td>...</td>\n",
       "      <td>...</td>\n",
       "      <td>...</td>\n",
       "    </tr>\n",
       "    <tr>\n",
       "      <th>4791</th>\n",
       "      <td>Kicukiro</td>\n",
       "      <td>25/25 m</td>\n",
       "      <td>65 000 000  Rwf</td>\n",
       "      <td>4.0</td>\n",
       "      <td>3.0</td>\n",
       "      <td>NaN</td>\n",
       "      <td>NaN</td>\n",
       "      <td>NaN</td>\n",
       "      <td>Yes</td>\n",
       "      <td>Yes</td>\n",
       "      <td>625.0</td>\n",
       "      <td>65000000.0</td>\n",
       "      <td>Kicukiro</td>\n",
       "    </tr>\n",
       "    <tr>\n",
       "      <th>4793</th>\n",
       "      <td>Gisozi</td>\n",
       "      <td>40 sqm</td>\n",
       "      <td>54 000 000  Rwf</td>\n",
       "      <td>NaN</td>\n",
       "      <td>3.0</td>\n",
       "      <td>NaN</td>\n",
       "      <td>NaN</td>\n",
       "      <td>NaN</td>\n",
       "      <td>Yes</td>\n",
       "      <td>NaN</td>\n",
       "      <td>40.0</td>\n",
       "      <td>54000000.0</td>\n",
       "      <td>Gisozi</td>\n",
       "    </tr>\n",
       "    <tr>\n",
       "      <th>4794</th>\n",
       "      <td>Kanombe</td>\n",
       "      <td>sqm</td>\n",
       "      <td>52 000 000  Rwf</td>\n",
       "      <td>4.0</td>\n",
       "      <td>3.0</td>\n",
       "      <td>NaN</td>\n",
       "      <td>Yes</td>\n",
       "      <td>NaN</td>\n",
       "      <td>NaN</td>\n",
       "      <td>NaN</td>\n",
       "      <td>NaN</td>\n",
       "      <td>52000000.0</td>\n",
       "      <td>Kanombe</td>\n",
       "    </tr>\n",
       "    <tr>\n",
       "      <th>4797</th>\n",
       "      <td>Kabuga</td>\n",
       "      <td>30/20 m</td>\n",
       "      <td>15 000 000  Rwf</td>\n",
       "      <td>4.0</td>\n",
       "      <td>1.0</td>\n",
       "      <td>Yes</td>\n",
       "      <td>Yes</td>\n",
       "      <td>Yes</td>\n",
       "      <td>Yes</td>\n",
       "      <td>NaN</td>\n",
       "      <td>600.0</td>\n",
       "      <td>15000000.0</td>\n",
       "      <td>Kabuga/Ndera/Rusororo</td>\n",
       "    </tr>\n",
       "    <tr>\n",
       "      <th>4798</th>\n",
       "      <td>Kabuga</td>\n",
       "      <td>sqm</td>\n",
       "      <td>30 000 000  Rwf</td>\n",
       "      <td>3.0</td>\n",
       "      <td>2.0</td>\n",
       "      <td>NaN</td>\n",
       "      <td>NaN</td>\n",
       "      <td>Yes</td>\n",
       "      <td>NaN</td>\n",
       "      <td>NaN</td>\n",
       "      <td>NaN</td>\n",
       "      <td>30000000.0</td>\n",
       "      <td>Kabuga/Ndera/Rusororo</td>\n",
       "    </tr>\n",
       "  </tbody>\n",
       "</table>\n",
       "<p>3924 rows × 13 columns</p>\n",
       "</div>"
      ],
      "text/plain": [
       "       location     area             price  bedrooms  bathrooms wardrobes  \\\n",
       "0      Kinyinya  25/35 m   55 000 000  Rwf       4.0        1.0       NaN   \n",
       "1      Gacuriro      sqm  180 000 000  Rwf       4.0        4.0       NaN   \n",
       "2        Kabeza  25/30 m   45 000 000  Rwf       4.0        3.0       NaN   \n",
       "4     Kimironko      sqm   28 000 000  Rwf       4.0        3.0       Yes   \n",
       "9     Kimironko      sqm   60 000 000  Rwf       4.0        3.0       Yes   \n",
       "...         ...      ...               ...       ...        ...       ...   \n",
       "4791   Kicukiro  25/25 m   65 000 000  Rwf       4.0        3.0       NaN   \n",
       "4793     Gisozi   40 sqm   54 000 000  Rwf       NaN        3.0       NaN   \n",
       "4794    Kanombe      sqm   52 000 000  Rwf       4.0        3.0       NaN   \n",
       "4797     Kabuga  30/20 m   15 000 000  Rwf       4.0        1.0       Yes   \n",
       "4798     Kabuga      sqm   30 000 000  Rwf       3.0        2.0       NaN   \n",
       "\n",
       "     cabinets balcony parking quarters  clean_area  clean_price  \\\n",
       "0         NaN     NaN     Yes      Yes       875.0   55000000.0   \n",
       "1         NaN     Yes     NaN      NaN         NaN  180000000.0   \n",
       "2         NaN     NaN     NaN      NaN       750.0   45000000.0   \n",
       "4         Yes     Yes     Yes      Yes         NaN   28000000.0   \n",
       "9         Yes     Yes     Yes      Yes         NaN   60000000.0   \n",
       "...       ...     ...     ...      ...         ...          ...   \n",
       "4791      NaN     NaN     Yes      Yes       625.0   65000000.0   \n",
       "4793      NaN     NaN     Yes      NaN        40.0   54000000.0   \n",
       "4794      Yes     NaN     NaN      NaN         NaN   52000000.0   \n",
       "4797      Yes     Yes     Yes      NaN       600.0   15000000.0   \n",
       "4798      NaN     Yes     NaN      NaN         NaN   30000000.0   \n",
       "\n",
       "             clean location  \n",
       "0                  Kinyinya  \n",
       "1                  Gacuriro  \n",
       "2                    Kabeza  \n",
       "4                 Kimironko  \n",
       "9                 Kimironko  \n",
       "...                     ...  \n",
       "4791               Kicukiro  \n",
       "4793                 Gisozi  \n",
       "4794                Kanombe  \n",
       "4797  Kabuga/Ndera/Rusororo  \n",
       "4798  Kabuga/Ndera/Rusororo  \n",
       "\n",
       "[3924 rows x 13 columns]"
      ]
     },
     "execution_count": 120,
     "metadata": {},
     "output_type": "execute_result"
    }
   ],
   "source": [
    "clean_df = house_data[house_data['clean location'].isin(more_30)]\n",
    "clean_df"
   ]
  },
  {
   "cell_type": "code",
   "execution_count": 121,
   "metadata": {},
   "outputs": [
    {
     "data": {
      "image/png": "[encoded data removed]",
      "text/plain": [
       "<Figure size 1000x500 with 1 Axes>"
      ]
     },
     "metadata": {},
     "output_type": "display_data"
    }
   ],
   "source": [
    "plot_missing_values(clean_df)"
   ]
  },
  {
   "cell_type": "code",
   "execution_count": 122,
   "metadata": {},
   "outputs": [
    {
     "name": "stderr",
     "output_type": "stream",
     "text": [
      "C:\\Users\\Rootkit\\AppData\\Local\\Temp\\ipykernel_16480\\3206409852.py:1: SettingWithCopyWarning: \n",
      "A value is trying to be set on a copy of a slice from a DataFrame\n",
      "\n",
      "See the caveats in the documentation: https://pandas.pydata.org/pandas-docs/stable/user_guide/indexing.html#returning-a-view-versus-a-copy\n",
      "  clean_df['wardrobes'].fillna('No', inplace=True)\n"
     ]
    }
   ],
   "source": [
    "clean_df['wardrobes'].fillna('No', inplace=True)"
   ]
  },
  {
   "cell_type": "code",
   "execution_count": 123,
   "metadata": {},
   "outputs": [
    {
     "data": {
      "image/png": "[encoded data removed]",
      "text/plain": [
       "<Figure size 1000x500 with 1 Axes>"
      ]
     },
     "metadata": {},
     "output_type": "display_data"
    }
   ],
   "source": [
    "plot_missing_values(clean_df)"
   ]
  },
  {
   "cell_type": "code",
   "execution_count": 124,
   "metadata": {},
   "outputs": [
    {
     "name": "stderr",
     "output_type": "stream",
     "text": [
      "C:\\Users\\Rootkit\\AppData\\Local\\Temp\\ipykernel_16480\\2701374390.py:1: SettingWithCopyWarning: \n",
      "A value is trying to be set on a copy of a slice from a DataFrame\n",
      "\n",
      "See the caveats in the documentation: https://pandas.pydata.org/pandas-docs/stable/user_guide/indexing.html#returning-a-view-versus-a-copy\n",
      "  clean_df['cabinets'].fillna('No', inplace=True)\n",
      "C:\\Users\\Rootkit\\AppData\\Local\\Temp\\ipykernel_16480\\2701374390.py:2: SettingWithCopyWarning: \n",
      "A value is trying to be set on a copy of a slice from a DataFrame\n",
      "\n",
      "See the caveats in the documentation: https://pandas.pydata.org/pandas-docs/stable/user_guide/indexing.html#returning-a-view-versus-a-copy\n",
      "  clean_df['balcony'].fillna('No', inplace=True)\n",
      "C:\\Users\\Rootkit\\AppData\\Local\\Temp\\ipykernel_16480\\2701374390.py:3: SettingWithCopyWarning: \n",
      "A value is trying to be set on a copy of a slice from a DataFrame\n",
      "\n",
      "See the caveats in the documentation: https://pandas.pydata.org/pandas-docs/stable/user_guide/indexing.html#returning-a-view-versus-a-copy\n",
      "  clean_df['parking'].fillna('No', inplace=True)\n",
      "C:\\Users\\Rootkit\\AppData\\Local\\Temp\\ipykernel_16480\\2701374390.py:4: SettingWithCopyWarning: \n",
      "A value is trying to be set on a copy of a slice from a DataFrame\n",
      "\n",
      "See the caveats in the documentation: https://pandas.pydata.org/pandas-docs/stable/user_guide/indexing.html#returning-a-view-versus-a-copy\n",
      "  clean_df['quarters'].fillna('No', inplace=True)\n"
     ]
    }
   ],
   "source": [
    "clean_df['cabinets'].fillna('No', inplace=True)\n",
    "clean_df['balcony'].fillna('No', inplace=True)\n",
    "clean_df['parking'].fillna('No', inplace=True)\n",
    "clean_df['quarters'].fillna('No', inplace=True)\t"
   ]
  },
  {
   "cell_type": "code",
   "execution_count": 125,
   "metadata": {},
   "outputs": [
    {
     "data": {
      "image/png": "[encoded data removed]",
      "text/plain": [
       "<Figure size 1000x500 with 1 Axes>"
      ]
     },
     "metadata": {},
     "output_type": "display_data"
    }
   ],
   "source": [
    "plot_missing_values(clean_df)"
   ]
  },
  {
   "cell_type": "code",
   "execution_count": 126,
   "metadata": {},
   "outputs": [],
   "source": [
    "test = pd.DataFrame({'Class':['Data Science',None,None,\n",
    "                              'Data Engineering',None,None,\n",
    "                             'Software Development',None,None],\n",
    "                    'Students': ['A','B','C','D','E','F','G','H','J']})"
   ]
  },
  {
   "cell_type": "code",
   "execution_count": 127,
   "metadata": {},
   "outputs": [
    {
     "data": {
      "text/plain": [
       "0            Data Science\n",
       "1            Data Science\n",
       "2            Data Science\n",
       "3        Data Engineering\n",
       "4        Data Engineering\n",
       "5        Data Engineering\n",
       "6    Software Development\n",
       "7    Software Development\n",
       "8    Software Development\n",
       "Name: Class, dtype: object"
      ]
     },
     "execution_count": 127,
     "metadata": {},
     "output_type": "execute_result"
    }
   ],
   "source": [
    "test['Class'].fillna(method='ffill')"
   ]
  },
  {
   "cell_type": "code",
   "execution_count": 128,
   "metadata": {},
   "outputs": [
    {
     "name": "stderr",
     "output_type": "stream",
     "text": [
      "C:\\Users\\Rootkit\\AppData\\Local\\Temp\\ipykernel_16480\\1483417257.py:1: SettingWithCopyWarning: \n",
      "A value is trying to be set on a copy of a slice from a DataFrame\n",
      "\n",
      "See the caveats in the documentation: https://pandas.pydata.org/pandas-docs/stable/user_guide/indexing.html#returning-a-view-versus-a-copy\n",
      "  clean_df.dropna(inplace=True)\n"
     ]
    }
   ],
   "source": [
    "clean_df.dropna(inplace=True)"
   ]
  },
  {
   "cell_type": "code",
   "execution_count": 129,
   "metadata": {},
   "outputs": [
    {
     "name": "stderr",
     "output_type": "stream",
     "text": [
      "C:\\Users\\Rootkit\\AppData\\Local\\Temp\\ipykernel_16480\\1437785805.py:1: FutureWarning: The default value of numeric_only in DataFrame.corr is deprecated. In a future version, it will default to False. Select only valid columns or specify the value of numeric_only to silence this warning.\n",
      "  clean_df.corr()\n"
     ]
    },
    {
     "data": {
      "text/html": [
       "<div>\n",
       "<style scoped>\n",
       "    .dataframe tbody tr th:only-of-type {\n",
       "        vertical-align: middle;\n",
       "    }\n",
       "\n",
       "    .dataframe tbody tr th {\n",
       "        vertical-align: top;\n",
       "    }\n",
       "\n",
       "    .dataframe thead th {\n",
       "        text-align: right;\n",
       "    }\n",
       "</style>\n",
       "<table border=\"1\" class=\"dataframe\">\n",
       "  <thead>\n",
       "    <tr style=\"text-align: right;\">\n",
       "      <th></th>\n",
       "      <th>bedrooms</th>\n",
       "      <th>bathrooms</th>\n",
       "      <th>clean_area</th>\n",
       "      <th>clean_price</th>\n",
       "    </tr>\n",
       "  </thead>\n",
       "  <tbody>\n",
       "    <tr>\n",
       "      <th>bedrooms</th>\n",
       "      <td>1.000000</td>\n",
       "      <td>0.631805</td>\n",
       "      <td>0.307968</td>\n",
       "      <td>0.042035</td>\n",
       "    </tr>\n",
       "    <tr>\n",
       "      <th>bathrooms</th>\n",
       "      <td>0.631805</td>\n",
       "      <td>1.000000</td>\n",
       "      <td>0.026755</td>\n",
       "      <td>0.036515</td>\n",
       "    </tr>\n",
       "    <tr>\n",
       "      <th>clean_area</th>\n",
       "      <td>0.307968</td>\n",
       "      <td>0.026755</td>\n",
       "      <td>1.000000</td>\n",
       "      <td>0.099264</td>\n",
       "    </tr>\n",
       "    <tr>\n",
       "      <th>clean_price</th>\n",
       "      <td>0.042035</td>\n",
       "      <td>0.036515</td>\n",
       "      <td>0.099264</td>\n",
       "      <td>1.000000</td>\n",
       "    </tr>\n",
       "  </tbody>\n",
       "</table>\n",
       "</div>"
      ],
      "text/plain": [
       "             bedrooms  bathrooms  clean_area  clean_price\n",
       "bedrooms     1.000000   0.631805    0.307968     0.042035\n",
       "bathrooms    0.631805   1.000000    0.026755     0.036515\n",
       "clean_area   0.307968   0.026755    1.000000     0.099264\n",
       "clean_price  0.042035   0.036515    0.099264     1.000000"
      ]
     },
     "execution_count": 129,
     "metadata": {},
     "output_type": "execute_result"
    }
   ],
   "source": [
    "clean_df.corr()"
   ]
  },
  {
   "cell_type": "code",
   "execution_count": 130,
   "metadata": {},
   "outputs": [
    {
     "data": {
      "image/png": "[encoded data removed]",
      "text/plain": [
       "<Figure size 1000x500 with 1 Axes>"
      ]
     },
     "metadata": {},
     "output_type": "display_data"
    }
   ],
   "source": [
    "plot_missing_values(clean_df)"
   ]
  },
  {
   "cell_type": "code",
   "execution_count": 131,
   "metadata": {},
   "outputs": [
    {
     "data": {
      "text/html": [
       "<div>\n",
       "<style scoped>\n",
       "    .dataframe tbody tr th:only-of-type {\n",
       "        vertical-align: middle;\n",
       "    }\n",
       "\n",
       "    .dataframe tbody tr th {\n",
       "        vertical-align: top;\n",
       "    }\n",
       "\n",
       "    .dataframe thead th {\n",
       "        text-align: right;\n",
       "    }\n",
       "</style>\n",
       "<table border=\"1\" class=\"dataframe\">\n",
       "  <thead>\n",
       "    <tr style=\"text-align: right;\">\n",
       "      <th></th>\n",
       "      <th>location</th>\n",
       "      <th>area</th>\n",
       "      <th>price</th>\n",
       "      <th>bedrooms</th>\n",
       "      <th>bathrooms</th>\n",
       "      <th>wardrobes</th>\n",
       "      <th>cabinets</th>\n",
       "      <th>balcony</th>\n",
       "      <th>parking</th>\n",
       "      <th>quarters</th>\n",
       "      <th>clean_area</th>\n",
       "      <th>clean_price</th>\n",
       "      <th>clean location</th>\n",
       "    </tr>\n",
       "  </thead>\n",
       "  <tbody>\n",
       "    <tr>\n",
       "      <th>0</th>\n",
       "      <td>Kinyinya</td>\n",
       "      <td>25/35 m</td>\n",
       "      <td>55 000 000  Rwf</td>\n",
       "      <td>4.0</td>\n",
       "      <td>1.0</td>\n",
       "      <td>No</td>\n",
       "      <td>No</td>\n",
       "      <td>No</td>\n",
       "      <td>Yes</td>\n",
       "      <td>Yes</td>\n",
       "      <td>875.0</td>\n",
       "      <td>55000000.0</td>\n",
       "      <td>Kinyinya</td>\n",
       "    </tr>\n",
       "    <tr>\n",
       "      <th>2</th>\n",
       "      <td>Kabeza</td>\n",
       "      <td>25/30 m</td>\n",
       "      <td>45 000 000  Rwf</td>\n",
       "      <td>4.0</td>\n",
       "      <td>3.0</td>\n",
       "      <td>No</td>\n",
       "      <td>No</td>\n",
       "      <td>No</td>\n",
       "      <td>No</td>\n",
       "      <td>No</td>\n",
       "      <td>750.0</td>\n",
       "      <td>45000000.0</td>\n",
       "      <td>Kabeza</td>\n",
       "    </tr>\n",
       "    <tr>\n",
       "      <th>10</th>\n",
       "      <td>Kimironko</td>\n",
       "      <td>25/30 m</td>\n",
       "      <td>150 000 000  Rwf</td>\n",
       "      <td>4.0</td>\n",
       "      <td>3.0</td>\n",
       "      <td>No</td>\n",
       "      <td>No</td>\n",
       "      <td>No</td>\n",
       "      <td>No</td>\n",
       "      <td>No</td>\n",
       "      <td>750.0</td>\n",
       "      <td>150000000.0</td>\n",
       "      <td>Kimironko</td>\n",
       "    </tr>\n",
       "    <tr>\n",
       "      <th>14</th>\n",
       "      <td>Gisozi</td>\n",
       "      <td>20/30 m</td>\n",
       "      <td>50 000 000  Rwf</td>\n",
       "      <td>4.0</td>\n",
       "      <td>3.0</td>\n",
       "      <td>No</td>\n",
       "      <td>No</td>\n",
       "      <td>No</td>\n",
       "      <td>Yes</td>\n",
       "      <td>Yes</td>\n",
       "      <td>600.0</td>\n",
       "      <td>50000000.0</td>\n",
       "      <td>Gisozi</td>\n",
       "    </tr>\n",
       "    <tr>\n",
       "      <th>15</th>\n",
       "      <td>Kimironko</td>\n",
       "      <td>25/30 m</td>\n",
       "      <td>150 000 000  Rwf</td>\n",
       "      <td>5.0</td>\n",
       "      <td>3.0</td>\n",
       "      <td>No</td>\n",
       "      <td>No</td>\n",
       "      <td>No</td>\n",
       "      <td>Yes</td>\n",
       "      <td>Yes</td>\n",
       "      <td>750.0</td>\n",
       "      <td>150000000.0</td>\n",
       "      <td>Kimironko</td>\n",
       "    </tr>\n",
       "    <tr>\n",
       "      <th>...</th>\n",
       "      <td>...</td>\n",
       "      <td>...</td>\n",
       "      <td>...</td>\n",
       "      <td>...</td>\n",
       "      <td>...</td>\n",
       "      <td>...</td>\n",
       "      <td>...</td>\n",
       "      <td>...</td>\n",
       "      <td>...</td>\n",
       "      <td>...</td>\n",
       "      <td>...</td>\n",
       "      <td>...</td>\n",
       "      <td>...</td>\n",
       "    </tr>\n",
       "    <tr>\n",
       "      <th>4780</th>\n",
       "      <td>Kibagabaga</td>\n",
       "      <td>20/30 m</td>\n",
       "      <td>85 000 000  Rwf</td>\n",
       "      <td>5.0</td>\n",
       "      <td>3.0</td>\n",
       "      <td>No</td>\n",
       "      <td>No</td>\n",
       "      <td>No</td>\n",
       "      <td>Yes</td>\n",
       "      <td>Yes</td>\n",
       "      <td>600.0</td>\n",
       "      <td>85000000.0</td>\n",
       "      <td>Kibagabaga</td>\n",
       "    </tr>\n",
       "    <tr>\n",
       "      <th>4782</th>\n",
       "      <td>Gisozi</td>\n",
       "      <td>59 sqm</td>\n",
       "      <td>71 000 $</td>\n",
       "      <td>1.0</td>\n",
       "      <td>1.0</td>\n",
       "      <td>No</td>\n",
       "      <td>No</td>\n",
       "      <td>Yes</td>\n",
       "      <td>Yes</td>\n",
       "      <td>No</td>\n",
       "      <td>59.0</td>\n",
       "      <td>92300000.0</td>\n",
       "      <td>Gisozi</td>\n",
       "    </tr>\n",
       "    <tr>\n",
       "      <th>4783</th>\n",
       "      <td>Kanombe</td>\n",
       "      <td>30/20 m</td>\n",
       "      <td>45 000 000  Rwf</td>\n",
       "      <td>4.0</td>\n",
       "      <td>3.0</td>\n",
       "      <td>Yes</td>\n",
       "      <td>Yes</td>\n",
       "      <td>Yes</td>\n",
       "      <td>Yes</td>\n",
       "      <td>No</td>\n",
       "      <td>600.0</td>\n",
       "      <td>45000000.0</td>\n",
       "      <td>Kanombe</td>\n",
       "    </tr>\n",
       "    <tr>\n",
       "      <th>4791</th>\n",
       "      <td>Kicukiro</td>\n",
       "      <td>25/25 m</td>\n",
       "      <td>65 000 000  Rwf</td>\n",
       "      <td>4.0</td>\n",
       "      <td>3.0</td>\n",
       "      <td>No</td>\n",
       "      <td>No</td>\n",
       "      <td>No</td>\n",
       "      <td>Yes</td>\n",
       "      <td>Yes</td>\n",
       "      <td>625.0</td>\n",
       "      <td>65000000.0</td>\n",
       "      <td>Kicukiro</td>\n",
       "    </tr>\n",
       "    <tr>\n",
       "      <th>4797</th>\n",
       "      <td>Kabuga</td>\n",
       "      <td>30/20 m</td>\n",
       "      <td>15 000 000  Rwf</td>\n",
       "      <td>4.0</td>\n",
       "      <td>1.0</td>\n",
       "      <td>Yes</td>\n",
       "      <td>Yes</td>\n",
       "      <td>Yes</td>\n",
       "      <td>Yes</td>\n",
       "      <td>No</td>\n",
       "      <td>600.0</td>\n",
       "      <td>15000000.0</td>\n",
       "      <td>Kabuga/Ndera/Rusororo</td>\n",
       "    </tr>\n",
       "  </tbody>\n",
       "</table>\n",
       "<p>2159 rows × 13 columns</p>\n",
       "</div>"
      ],
      "text/plain": [
       "        location     area             price  bedrooms  bathrooms wardrobes  \\\n",
       "0       Kinyinya  25/35 m   55 000 000  Rwf       4.0        1.0        No   \n",
       "2         Kabeza  25/30 m   45 000 000  Rwf       4.0        3.0        No   \n",
       "10     Kimironko  25/30 m  150 000 000  Rwf       4.0        3.0        No   \n",
       "14        Gisozi  20/30 m   50 000 000  Rwf       4.0        3.0        No   \n",
       "15     Kimironko  25/30 m  150 000 000  Rwf       5.0        3.0        No   \n",
       "...          ...      ...               ...       ...        ...       ...   \n",
       "4780  Kibagabaga  20/30 m   85 000 000  Rwf       5.0        3.0        No   \n",
       "4782      Gisozi   59 sqm          71 000 $       1.0        1.0        No   \n",
       "4783     Kanombe  30/20 m   45 000 000  Rwf       4.0        3.0       Yes   \n",
       "4791    Kicukiro  25/25 m   65 000 000  Rwf       4.0        3.0        No   \n",
       "4797      Kabuga  30/20 m   15 000 000  Rwf       4.0        1.0       Yes   \n",
       "\n",
       "     cabinets balcony parking quarters  clean_area  clean_price  \\\n",
       "0          No      No     Yes      Yes       875.0   55000000.0   \n",
       "2          No      No      No       No       750.0   45000000.0   \n",
       "10         No      No      No       No       750.0  150000000.0   \n",
       "14         No      No     Yes      Yes       600.0   50000000.0   \n",
       "15         No      No     Yes      Yes       750.0  150000000.0   \n",
       "...       ...     ...     ...      ...         ...          ...   \n",
       "4780       No      No     Yes      Yes       600.0   85000000.0   \n",
       "4782       No     Yes     Yes       No        59.0   92300000.0   \n",
       "4783      Yes     Yes     Yes       No       600.0   45000000.0   \n",
       "4791       No      No     Yes      Yes       625.0   65000000.0   \n",
       "4797      Yes     Yes     Yes       No       600.0   15000000.0   \n",
       "\n",
       "             clean location  \n",
       "0                  Kinyinya  \n",
       "2                    Kabeza  \n",
       "10                Kimironko  \n",
       "14                   Gisozi  \n",
       "15                Kimironko  \n",
       "...                     ...  \n",
       "4780             Kibagabaga  \n",
       "4782                 Gisozi  \n",
       "4783                Kanombe  \n",
       "4791               Kicukiro  \n",
       "4797  Kabuga/Ndera/Rusororo  \n",
       "\n",
       "[2159 rows x 13 columns]"
      ]
     },
     "execution_count": 131,
     "metadata": {},
     "output_type": "execute_result"
    }
   ],
   "source": [
    "clean_df"
   ]
  },
  {
   "cell_type": "code",
   "execution_count": 132,
   "metadata": {},
   "outputs": [
    {
     "data": {
      "image/png": "[encoded data removed]",
      "text/plain": [
       "<Figure size 640x480 with 1 Axes>"
      ]
     },
     "metadata": {},
     "output_type": "display_data"
    }
   ],
   "source": [
    "plt.boxplot(clean_df[['clean_price','clean_area']]);"
   ]
  },
  {
   "cell_type": "code",
   "execution_count": 133,
   "metadata": {},
   "outputs": [],
   "source": [
    "clean_df = clean_df[clean_df['clean_price'] >= 10_000_000]\n",
    "clean_df = clean_df[clean_df['clean_area'] >=300]"
   ]
  },
  {
   "cell_type": "code",
   "execution_count": 134,
   "metadata": {},
   "outputs": [],
   "source": [
    "clean_df = clean_df[(clean_df['bathrooms'] <= 6) & (clean_df['bathrooms'] > 0)]"
   ]
  },
  {
   "cell_type": "code",
   "execution_count": 135,
   "metadata": {},
   "outputs": [
    {
     "data": {
      "text/plain": [
       "(2127, 13)"
      ]
     },
     "execution_count": 135,
     "metadata": {},
     "output_type": "execute_result"
    }
   ],
   "source": [
    "clean_df.shape"
   ]
  },
  {
   "cell_type": "code",
   "execution_count": 136,
   "metadata": {},
   "outputs": [
    {
     "data": {
      "image/png": "[encoded data removed]",
      "text/plain": [
       "<Figure size 640x480 with 1 Axes>"
      ]
     },
     "metadata": {},
     "output_type": "display_data"
    }
   ],
   "source": [
    "plt.boxplot(clean_df['bathrooms']);"
   ]
  },
  {
   "cell_type": "markdown",
   "metadata": {},
   "source": [
    "# interquatels range method"
   ]
  },
  {
   "cell_type": "code",
   "execution_count": 137,
   "metadata": {},
   "outputs": [
    {
     "data": {
      "text/plain": [
       "0.9    150000000.0\n",
       "Name: clean_price, dtype: float64"
      ]
     },
     "execution_count": 137,
     "metadata": {},
     "output_type": "execute_result"
    }
   ],
   "source": [
    "clean_df['clean_price'].quantile([.9])"
   ]
  },
  {
   "cell_type": "code",
   "execution_count": 138,
   "metadata": {},
   "outputs": [],
   "source": [
    "# import numpy as np\n",
    "def outliers_bounds(df, col_name):\n",
    "    Q1 = df[col_name].quantile(0.25)\n",
    "    Q3 = df[col_name].quantile(0.75)\n",
    "    IQR = Q3 - Q1\n",
    "    \n",
    "    lower_bound = Q1 - 1.5 * IQR\n",
    "    upper_bound = Q3 + 1.5 * IQR\n",
    "    return lower_bound, upper_bound "
   ]
  },
  {
   "cell_type": "code",
   "execution_count": 139,
   "metadata": {},
   "outputs": [
    {
     "data": {
      "text/plain": [
       "(375.0, 975.0)"
      ]
     },
     "execution_count": 139,
     "metadata": {},
     "output_type": "execute_result"
    }
   ],
   "source": [
    "area_boundd = outliers_bounds(clean_df,'clean_area')\n",
    "area_boundd"
   ]
  },
  {
   "cell_type": "code",
   "execution_count": 140,
   "metadata": {},
   "outputs": [
    {
     "data": {
      "text/plain": [
       "0.15    500.0\n",
       "0.90    900.0\n",
       "Name: clean_area, dtype: float64"
      ]
     },
     "execution_count": 140,
     "metadata": {},
     "output_type": "execute_result"
    }
   ],
   "source": [
    "clean_df['clean_area'].quantile([.15,.9])"
   ]
  },
  {
   "cell_type": "code",
   "execution_count": 141,
   "metadata": {},
   "outputs": [],
   "source": [
    "clean_df = clean_df[(clean_df['clean_area']>=area_boundd[0]) & (clean_df['clean_area']<=area_boundd[1])]"
   ]
  },
  {
   "cell_type": "code",
   "execution_count": 142,
   "metadata": {},
   "outputs": [
    {
     "data": {
      "text/plain": [
       "(-2500000.0, 137500000.0)"
      ]
     },
     "execution_count": 142,
     "metadata": {},
     "output_type": "execute_result"
    }
   ],
   "source": [
    "price_bound = outliers_bounds(clean_df,'clean_price')\n",
    "price_bound"
   ]
  },
  {
   "cell_type": "code",
   "execution_count": 143,
   "metadata": {},
   "outputs": [],
   "source": [
    "clean_df = clean_df[(clean_df['clean_area']>=price_bound[0]) & (clean_df['clean_area']<=price_bound[1])]"
   ]
  },
  {
   "cell_type": "code",
   "execution_count": 144,
   "metadata": {},
   "outputs": [
    {
     "data": {
      "text/plain": [
       "(1904, 13)"
      ]
     },
     "execution_count": 144,
     "metadata": {},
     "output_type": "execute_result"
    }
   ],
   "source": [
    "clean_df.shape"
   ]
  },
  {
   "cell_type": "markdown",
   "metadata": {},
   "source": [
    "# creating bins"
   ]
  },
  {
   "cell_type": "code",
   "execution_count": 145,
   "metadata": {},
   "outputs": [
    {
     "data": {
      "text/plain": [
       "750.0    725\n",
       "600.0    484\n",
       "500.0    277\n",
       "900.0    112\n",
       "625.0     88\n",
       "840.0     60\n",
       "875.0     55\n",
       "400.0     50\n",
       "700.0      9\n",
       "944.0      6\n",
       "575.0      4\n",
       "720.0      4\n",
       "810.0      3\n",
       "375.0      3\n",
       "480.0      3\n",
       "800.0      3\n",
       "450.0      2\n",
       "806.0      2\n",
       "525.0      2\n",
       "440.0      2\n",
       "520.0      2\n",
       "749.0      1\n",
       "540.0      1\n",
       "610.0      1\n",
       "396.0      1\n",
       "550.0      1\n",
       "869.0      1\n",
       "640.0      1\n",
       "570.0      1\n",
       "Name: clean_area, dtype: int64"
      ]
     },
     "execution_count": 145,
     "metadata": {},
     "output_type": "execute_result"
    }
   ],
   "source": [
    "clean_df['clean_area'].value_counts()"
   ]
  },
  {
   "cell_type": "code",
   "execution_count": 146,
   "metadata": {},
   "outputs": [],
   "source": [
    "clean_df['area category']=(\n",
    "    pd.cut(\n",
    "        clean_df['clean_area'],\n",
    "        bins=[300,399,499,599,699,799,899,999],\n",
    "        labels=['300-400','400-500','500-600','600-700','700-800','800-900','900+']\n",
    "        )\n",
    ")"
   ]
  },
  {
   "cell_type": "code",
   "execution_count": 147,
   "metadata": {},
   "outputs": [
    {
     "data": {
      "text/plain": [
       "Index(['location', 'area', 'price', 'bedrooms', 'bathrooms', 'wardrobes',\n",
       "       'cabinets', 'balcony', 'parking', 'quarters', 'clean_area',\n",
       "       'clean_price', 'clean location', 'area category'],\n",
       "      dtype='object')"
      ]
     },
     "execution_count": 147,
     "metadata": {},
     "output_type": "execute_result"
    }
   ],
   "source": [
    "clean_df.columns"
   ]
  },
  {
   "cell_type": "code",
   "execution_count": 148,
   "metadata": {},
   "outputs": [],
   "source": [
    "clean_final = clean_df[['clean location','area category','clean_price','bedrooms', 'bathrooms', 'wardrobes',\n",
    "       'cabinets', 'balcony', 'parking', 'quarters']]"
   ]
  },
  {
   "cell_type": "code",
   "execution_count": 149,
   "metadata": {},
   "outputs": [],
   "source": [
    "clean_final.columns = [col.replace('clean','').replace('category','').replace('_','').replace(' ','') for col in clean_final.columns]"
   ]
  },
  {
   "cell_type": "code",
   "execution_count": 150,
   "metadata": {},
   "outputs": [
    {
     "data": {
      "text/html": [
       "<div>\n",
       "<style scoped>\n",
       "    .dataframe tbody tr th:only-of-type {\n",
       "        vertical-align: middle;\n",
       "    }\n",
       "\n",
       "    .dataframe tbody tr th {\n",
       "        vertical-align: top;\n",
       "    }\n",
       "\n",
       "    .dataframe thead th {\n",
       "        text-align: right;\n",
       "    }\n",
       "</style>\n",
       "<table border=\"1\" class=\"dataframe\">\n",
       "  <thead>\n",
       "    <tr style=\"text-align: right;\">\n",
       "      <th></th>\n",
       "      <th>location</th>\n",
       "      <th>area</th>\n",
       "      <th>price</th>\n",
       "      <th>bedrooms</th>\n",
       "      <th>bathrooms</th>\n",
       "      <th>wardrobes</th>\n",
       "      <th>cabinets</th>\n",
       "      <th>balcony</th>\n",
       "      <th>parking</th>\n",
       "      <th>quarters</th>\n",
       "    </tr>\n",
       "  </thead>\n",
       "  <tbody>\n",
       "    <tr>\n",
       "      <th>0</th>\n",
       "      <td>Kinyinya</td>\n",
       "      <td>800-900</td>\n",
       "      <td>55000000.0</td>\n",
       "      <td>4.0</td>\n",
       "      <td>1.0</td>\n",
       "      <td>No</td>\n",
       "      <td>No</td>\n",
       "      <td>No</td>\n",
       "      <td>Yes</td>\n",
       "      <td>Yes</td>\n",
       "    </tr>\n",
       "    <tr>\n",
       "      <th>2</th>\n",
       "      <td>Kabeza</td>\n",
       "      <td>700-800</td>\n",
       "      <td>45000000.0</td>\n",
       "      <td>4.0</td>\n",
       "      <td>3.0</td>\n",
       "      <td>No</td>\n",
       "      <td>No</td>\n",
       "      <td>No</td>\n",
       "      <td>No</td>\n",
       "      <td>No</td>\n",
       "    </tr>\n",
       "    <tr>\n",
       "      <th>10</th>\n",
       "      <td>Kimironko</td>\n",
       "      <td>700-800</td>\n",
       "      <td>150000000.0</td>\n",
       "      <td>4.0</td>\n",
       "      <td>3.0</td>\n",
       "      <td>No</td>\n",
       "      <td>No</td>\n",
       "      <td>No</td>\n",
       "      <td>No</td>\n",
       "      <td>No</td>\n",
       "    </tr>\n",
       "    <tr>\n",
       "      <th>14</th>\n",
       "      <td>Gisozi</td>\n",
       "      <td>600-700</td>\n",
       "      <td>50000000.0</td>\n",
       "      <td>4.0</td>\n",
       "      <td>3.0</td>\n",
       "      <td>No</td>\n",
       "      <td>No</td>\n",
       "      <td>No</td>\n",
       "      <td>Yes</td>\n",
       "      <td>Yes</td>\n",
       "    </tr>\n",
       "    <tr>\n",
       "      <th>15</th>\n",
       "      <td>Kimironko</td>\n",
       "      <td>700-800</td>\n",
       "      <td>150000000.0</td>\n",
       "      <td>5.0</td>\n",
       "      <td>3.0</td>\n",
       "      <td>No</td>\n",
       "      <td>No</td>\n",
       "      <td>No</td>\n",
       "      <td>Yes</td>\n",
       "      <td>Yes</td>\n",
       "    </tr>\n",
       "    <tr>\n",
       "      <th>...</th>\n",
       "      <td>...</td>\n",
       "      <td>...</td>\n",
       "      <td>...</td>\n",
       "      <td>...</td>\n",
       "      <td>...</td>\n",
       "      <td>...</td>\n",
       "      <td>...</td>\n",
       "      <td>...</td>\n",
       "      <td>...</td>\n",
       "      <td>...</td>\n",
       "    </tr>\n",
       "    <tr>\n",
       "      <th>4776</th>\n",
       "      <td>Kanombe</td>\n",
       "      <td>700-800</td>\n",
       "      <td>60000000.0</td>\n",
       "      <td>4.0</td>\n",
       "      <td>3.0</td>\n",
       "      <td>No</td>\n",
       "      <td>No</td>\n",
       "      <td>No</td>\n",
       "      <td>No</td>\n",
       "      <td>No</td>\n",
       "    </tr>\n",
       "    <tr>\n",
       "      <th>4780</th>\n",
       "      <td>Kibagabaga</td>\n",
       "      <td>600-700</td>\n",
       "      <td>85000000.0</td>\n",
       "      <td>5.0</td>\n",
       "      <td>3.0</td>\n",
       "      <td>No</td>\n",
       "      <td>No</td>\n",
       "      <td>No</td>\n",
       "      <td>Yes</td>\n",
       "      <td>Yes</td>\n",
       "    </tr>\n",
       "    <tr>\n",
       "      <th>4783</th>\n",
       "      <td>Kanombe</td>\n",
       "      <td>600-700</td>\n",
       "      <td>45000000.0</td>\n",
       "      <td>4.0</td>\n",
       "      <td>3.0</td>\n",
       "      <td>Yes</td>\n",
       "      <td>Yes</td>\n",
       "      <td>Yes</td>\n",
       "      <td>Yes</td>\n",
       "      <td>No</td>\n",
       "    </tr>\n",
       "    <tr>\n",
       "      <th>4791</th>\n",
       "      <td>Kicukiro</td>\n",
       "      <td>600-700</td>\n",
       "      <td>65000000.0</td>\n",
       "      <td>4.0</td>\n",
       "      <td>3.0</td>\n",
       "      <td>No</td>\n",
       "      <td>No</td>\n",
       "      <td>No</td>\n",
       "      <td>Yes</td>\n",
       "      <td>Yes</td>\n",
       "    </tr>\n",
       "    <tr>\n",
       "      <th>4797</th>\n",
       "      <td>Kabuga/Ndera/Rusororo</td>\n",
       "      <td>600-700</td>\n",
       "      <td>15000000.0</td>\n",
       "      <td>4.0</td>\n",
       "      <td>1.0</td>\n",
       "      <td>Yes</td>\n",
       "      <td>Yes</td>\n",
       "      <td>Yes</td>\n",
       "      <td>Yes</td>\n",
       "      <td>No</td>\n",
       "    </tr>\n",
       "  </tbody>\n",
       "</table>\n",
       "<p>1904 rows × 10 columns</p>\n",
       "</div>"
      ],
      "text/plain": [
       "                   location     area        price  bedrooms  bathrooms  \\\n",
       "0                  Kinyinya  800-900   55000000.0       4.0        1.0   \n",
       "2                    Kabeza  700-800   45000000.0       4.0        3.0   \n",
       "10                Kimironko  700-800  150000000.0       4.0        3.0   \n",
       "14                   Gisozi  600-700   50000000.0       4.0        3.0   \n",
       "15                Kimironko  700-800  150000000.0       5.0        3.0   \n",
       "...                     ...      ...          ...       ...        ...   \n",
       "4776                Kanombe  700-800   60000000.0       4.0        3.0   \n",
       "4780             Kibagabaga  600-700   85000000.0       5.0        3.0   \n",
       "4783                Kanombe  600-700   45000000.0       4.0        3.0   \n",
       "4791               Kicukiro  600-700   65000000.0       4.0        3.0   \n",
       "4797  Kabuga/Ndera/Rusororo  600-700   15000000.0       4.0        1.0   \n",
       "\n",
       "     wardrobes cabinets balcony parking quarters  \n",
       "0           No       No      No     Yes      Yes  \n",
       "2           No       No      No      No       No  \n",
       "10          No       No      No      No       No  \n",
       "14          No       No      No     Yes      Yes  \n",
       "15          No       No      No     Yes      Yes  \n",
       "...        ...      ...     ...     ...      ...  \n",
       "4776        No       No      No      No       No  \n",
       "4780        No       No      No     Yes      Yes  \n",
       "4783       Yes      Yes     Yes     Yes       No  \n",
       "4791        No       No      No     Yes      Yes  \n",
       "4797       Yes      Yes     Yes     Yes       No  \n",
       "\n",
       "[1904 rows x 10 columns]"
      ]
     },
     "execution_count": 150,
     "metadata": {},
     "output_type": "execute_result"
    }
   ],
   "source": [
    "clean_final"
   ]
  },
  {
   "cell_type": "code",
   "execution_count": 151,
   "metadata": {},
   "outputs": [
    {
     "data": {
      "text/plain": [
       "Kanombe                  460\n",
       "Kibagabaga               341\n",
       "Kimironko                278\n",
       "Kicukiro                 216\n",
       "Gacuriro                 121\n",
       "Kabeza                    90\n",
       "Gisozi                    82\n",
       "Kagarama                  53\n",
       "Kabuga/Ndera/Rusororo     49\n",
       "Gatenga/Gikondo           41\n",
       "Remera                    41\n",
       "Masaka                    40\n",
       "Kagugu                    22\n",
       "Kinyinya                  18\n",
       "Niboyi                    14\n",
       "Kacyiru                   13\n",
       "Zindiro                   10\n",
       "Nyamata                    8\n",
       "Nyarutarama                6\n",
       "Kiyovu                     1\n",
       "Name: location, dtype: int64"
      ]
     },
     "execution_count": 151,
     "metadata": {},
     "output_type": "execute_result"
    }
   ],
   "source": [
    "clean_final['location'].value_counts()"
   ]
  },
  {
   "cell_type": "code",
   "execution_count": 53,
   "metadata": {},
   "outputs": [
    {
     "data": {
      "text/plain": [
       "20"
      ]
     },
     "execution_count": 53,
     "metadata": {},
     "output_type": "execute_result"
    }
   ],
   "source": [
    "d = pd.get_dummies(clean_final['location'])\n",
    "len(d.columns)"
   ]
  },
  {
   "cell_type": "code",
   "execution_count": 54,
   "metadata": {},
   "outputs": [],
   "source": [
    "def create_dummies(df,cols_n,dumy_cols):\n",
    "    df1 = df[cols_n]\n",
    "    df2 = pd.get_dummies(clean_final[dumy_cols])\n",
    "    df = pd.concat([df1,df2], axis=1)\n",
    "    return df"
   ]
  },
  {
   "cell_type": "code",
   "execution_count": 55,
   "metadata": {},
   "outputs": [],
   "source": [
    "cat = list(clean_final.select_dtypes('object').columns)\n",
    "nums = list(clean_final.select_dtypes(include='number').columns)"
   ]
  },
  {
   "cell_type": "code",
   "execution_count": 56,
   "metadata": {},
   "outputs": [
    {
     "data": {
      "text/plain": [
       "['price', 'bedrooms', 'bathrooms']"
      ]
     },
     "execution_count": 56,
     "metadata": {},
     "output_type": "execute_result"
    }
   ],
   "source": [
    "nums"
   ]
  },
  {
   "cell_type": "code",
   "execution_count": 57,
   "metadata": {},
   "outputs": [],
   "source": [
    "clean_final = create_dummies(clean_final,nums,cat)"
   ]
  },
  {
   "cell_type": "code",
   "execution_count": 58,
   "metadata": {},
   "outputs": [
    {
     "data": {
      "text/plain": [
       "33"
      ]
     },
     "execution_count": 58,
     "metadata": {},
     "output_type": "execute_result"
    }
   ],
   "source": [
    "len(clean_final.columns)"
   ]
  },
  {
   "cell_type": "markdown",
   "metadata": {},
   "source": [
    "# MODELING\n",
    "## MODEL AND PERFORMANCE METRICS"
   ]
  },
  {
   "cell_type": "code",
   "execution_count": 59,
   "metadata": {},
   "outputs": [],
   "source": [
    "from sklearn.metrics import mean_absolute_error, r2_score"
   ]
  },
  {
   "cell_type": "code",
   "execution_count": 60,
   "metadata": {},
   "outputs": [
    {
     "data": {
      "text/plain": [
       "0.41874999999999996"
      ]
     },
     "execution_count": 60,
     "metadata": {},
     "output_type": "execute_result"
    }
   ],
   "source": [
    "r2_score([200,300,400],\n",
    "                    [195,260,300])"
   ]
  },
  {
   "cell_type": "markdown",
   "metadata": {},
   "source": [
    "# Data split"
   ]
  },
  {
   "cell_type": "code",
   "execution_count": 61,
   "metadata": {},
   "outputs": [],
   "source": [
    "X = clean_final.drop(columns=['price'])  # features \n",
    "y = clean_final['price']  # target\n",
    "\n"
   ]
  },
  {
   "cell_type": "code",
   "execution_count": 152,
   "metadata": {},
   "outputs": [],
   "source": [
    "from sklearn.linear_model import LinearRegression\n",
    "from sklearn.model_selection import train_test_split    \n",
    "from sklearn.metrics import accuracy_score"
   ]
  },
  {
   "cell_type": "code",
   "execution_count": 63,
   "metadata": {},
   "outputs": [],
   "source": [
    "X_train,X_test,y_train, y_test = train_test_split(X,y, test_size=.2, random_state=42)"
   ]
  },
  {
   "cell_type": "code",
   "execution_count": 64,
   "metadata": {},
   "outputs": [
    {
     "data": {
      "text/html": [
       "<style>#sk-container-id-1 {color: black;}#sk-container-id-1 pre{padding: 0;}#sk-container-id-1 div.sk-toggleable {background-color: white;}#sk-container-id-1 label.sk-toggleable__label {cursor: pointer;display: block;width: 100%;margin-bottom: 0;padding: 0.3em;box-sizing: border-box;text-align: center;}#sk-container-id-1 label.sk-toggleable__label-arrow:before {content: \"▸\";float: left;margin-right: 0.25em;color: #696969;}#sk-container-id-1 label.sk-toggleable__label-arrow:hover:before {color: black;}#sk-container-id-1 div.sk-estimator:hover label.sk-toggleable__label-arrow:before {color: black;}#sk-container-id-1 div.sk-toggleable__content {max-height: 0;max-width: 0;overflow: hidden;text-align: left;background-color: #f0f8ff;}#sk-container-id-1 div.sk-toggleable__content pre {margin: 0.2em;color: black;border-radius: 0.25em;background-color: #f0f8ff;}#sk-container-id-1 input.sk-toggleable__control:checked~div.sk-toggleable__content {max-height: 200px;max-width: 100%;overflow: auto;}#sk-container-id-1 input.sk-toggleable__control:checked~label.sk-toggleable__label-arrow:before {content: \"▾\";}#sk-container-id-1 div.sk-estimator input.sk-toggleable__control:checked~label.sk-toggleable__label {background-color: #d4ebff;}#sk-container-id-1 div.sk-label input.sk-toggleable__control:checked~label.sk-toggleable__label {background-color: #d4ebff;}#sk-container-id-1 input.sk-hidden--visually {border: 0;clip: rect(1px 1px 1px 1px);clip: rect(1px, 1px, 1px, 1px);height: 1px;margin: -1px;overflow: hidden;padding: 0;position: absolute;width: 1px;}#sk-container-id-1 div.sk-estimator {font-family: monospace;background-color: #f0f8ff;border: 1px dotted black;border-radius: 0.25em;box-sizing: border-box;margin-bottom: 0.5em;}#sk-container-id-1 div.sk-estimator:hover {background-color: #d4ebff;}#sk-container-id-1 div.sk-parallel-item::after {content: \"\";width: 100%;border-bottom: 1px solid gray;flex-grow: 1;}#sk-container-id-1 div.sk-label:hover label.sk-toggleable__label {background-color: #d4ebff;}#sk-container-id-1 div.sk-serial::before {content: \"\";position: absolute;border-left: 1px solid gray;box-sizing: border-box;top: 0;bottom: 0;left: 50%;z-index: 0;}#sk-container-id-1 div.sk-serial {display: flex;flex-direction: column;align-items: center;background-color: white;padding-right: 0.2em;padding-left: 0.2em;position: relative;}#sk-container-id-1 div.sk-item {position: relative;z-index: 1;}#sk-container-id-1 div.sk-parallel {display: flex;align-items: stretch;justify-content: center;background-color: white;position: relative;}#sk-container-id-1 div.sk-item::before, #sk-container-id-1 div.sk-parallel-item::before {content: \"\";position: absolute;border-left: 1px solid gray;box-sizing: border-box;top: 0;bottom: 0;left: 50%;z-index: -1;}#sk-container-id-1 div.sk-parallel-item {display: flex;flex-direction: column;z-index: 1;position: relative;background-color: white;}#sk-container-id-1 div.sk-parallel-item:first-child::after {align-self: flex-end;width: 50%;}#sk-container-id-1 div.sk-parallel-item:last-child::after {align-self: flex-start;width: 50%;}#sk-container-id-1 div.sk-parallel-item:only-child::after {width: 0;}#sk-container-id-1 div.sk-dashed-wrapped {border: 1px dashed gray;margin: 0 0.4em 0.5em 0.4em;box-sizing: border-box;padding-bottom: 0.4em;background-color: white;}#sk-container-id-1 div.sk-label label {font-family: monospace;font-weight: bold;display: inline-block;line-height: 1.2em;}#sk-container-id-1 div.sk-label-container {text-align: center;}#sk-container-id-1 div.sk-container {/* jupyter's `normalize.less` sets `[hidden] { display: none; }` but bootstrap.min.css set `[hidden] { display: none !important; }` so we also need the `!important` here to be able to override the default hidden behavior on the sphinx rendered scikit-learn.org. See: https://github.com/scikit-learn/scikit-learn/issues/21755 */display: inline-block !important;position: relative;}#sk-container-id-1 div.sk-text-repr-fallback {display: none;}</style><div id=\"sk-container-id-1\" class=\"sk-top-container\"><div class=\"sk-text-repr-fallback\"><pre>LinearRegression()</pre><b>In a Jupyter environment, please rerun this cell to show the HTML representation or trust the notebook. <br />On GitHub, the HTML representation is unable to render, please try loading this page with nbviewer.org.</b></div><div class=\"sk-container\" hidden><div class=\"sk-item\"><div class=\"sk-estimator sk-toggleable\"><input class=\"sk-toggleable__control sk-hidden--visually\" id=\"sk-estimator-id-1\" type=\"checkbox\" checked><label for=\"sk-estimator-id-1\" class=\"sk-toggleable__label sk-toggleable__label-arrow\">LinearRegression</label><div class=\"sk-toggleable__content\"><pre>LinearRegression()</pre></div></div></div></div></div>"
      ],
      "text/plain": [
       "LinearRegression()"
      ]
     },
     "execution_count": 64,
     "metadata": {},
     "output_type": "execute_result"
    }
   ],
   "source": [
    "model = LinearRegression()\n",
    "model.fit(X_train,y_train)\n",
    "\n"
   ]
  },
  {
   "cell_type": "code",
   "execution_count": 65,
   "metadata": {},
   "outputs": [
    {
     "name": "stdout",
     "output_type": "stream",
     "text": [
      "25424250.326986212\n",
      "83606829.5223097\n"
     ]
    }
   ],
   "source": [
    "print(mean_absolute_error(y_train,model.predict(X_train)))\n",
    "print(mean_absolute_error(y_test,model.predict(X_test)))"
   ]
  },
  {
   "cell_type": "code",
   "execution_count": 158,
   "metadata": {},
   "outputs": [],
   "source": [
    "def train_tesy_model(features,target,test_size,selected_model,metric):\n",
    "    X_train,X_test, y_train,y_test=train_test_split(features,target,test_size=test_size,random_state=42)\n",
    "    model = selected_model.fit(X_train,y_train)\n",
    "    predictions = model.predict(X_test)\n",
    "    return round(metric(y_test,predictions),2)"
   ]
  },
  {
   "cell_type": "code",
   "execution_count": 160,
   "metadata": {},
   "outputs": [
    {
     "data": {
      "text/plain": [
       "83606829.52"
      ]
     },
     "execution_count": 160,
     "metadata": {},
     "output_type": "execute_result"
    }
   ],
   "source": [
    "linear = LinearRegression()\n",
    "metric = mean_absolute_error\n",
    "train_tesy_model(X,y,0.2,linear,metric)"
   ]
  },
  {
   "cell_type": "code",
   "execution_count": 72,
   "metadata": {},
   "outputs": [],
   "source": [
    "from sklearn.linear_model import Ridge,Lasso,ElasticNet\n",
    "from sklearn.tree import DecisionTreeRegressor\n",
    "from sklearn.ensemble import RandomForestRegressor, GradientBoostingRegressor\n",
    "\n"
   ]
  },
  {
   "cell_type": "code",
   "execution_count": 79,
   "metadata": {},
   "outputs": [
    {
     "data": {
      "text/plain": [
       "82719560.33"
      ]
     },
     "execution_count": 79,
     "metadata": {},
     "output_type": "execute_result"
    }
   ],
   "source": [
    "ridge = Ridge()\n",
    "metric = mean_absolute_error\n",
    "train_tesy_model(X,y,0.2,ridge,metric)"
   ]
  },
  {
   "cell_type": "code",
   "execution_count": 80,
   "metadata": {},
   "outputs": [
    {
     "name": "stderr",
     "output_type": "stream",
     "text": [
      "c:\\Users\\Rootkit\\anaconda3\\Lib\\site-packages\\sklearn\\linear_model\\_coordinate_descent.py:628: ConvergenceWarning: Objective did not converge. You might want to increase the number of iterations, check the scale of the features or consider increasing regularisation. Duality gap: 1.530e+18, tolerance: 1.369e+15\n",
      "  model = cd_fast.enet_coordinate_descent(\n"
     ]
    },
    {
     "data": {
      "text/plain": [
       "82720835.99"
      ]
     },
     "execution_count": 80,
     "metadata": {},
     "output_type": "execute_result"
    }
   ],
   "source": [
    "lassor = Lasso()\n",
    "metric = mean_absolute_error\n",
    "train_tesy_model(X,y,0.2,lassor,metric)"
   ]
  },
  {
   "cell_type": "code",
   "execution_count": 81,
   "metadata": {},
   "outputs": [
    {
     "data": {
      "text/plain": [
       "82691485.12"
      ]
     },
     "execution_count": 81,
     "metadata": {},
     "output_type": "execute_result"
    }
   ],
   "source": [
    "elasticnet = ElasticNet()\n",
    "metric = mean_absolute_error\n",
    "train_tesy_model(X,y,0.2,elasticnet,metric)"
   ]
  },
  {
   "cell_type": "code",
   "execution_count": 82,
   "metadata": {},
   "outputs": [
    {
     "data": {
      "text/plain": [
       "78710990.29"
      ]
     },
     "execution_count": 82,
     "metadata": {},
     "output_type": "execute_result"
    }
   ],
   "source": [
    "tree = DecisionTreeRegressor()\n",
    "metric = mean_absolute_error\n",
    "train_tesy_model(X,y,0.2,tree,metric)"
   ]
  },
  {
   "cell_type": "code",
   "execution_count": 87,
   "metadata": {},
   "outputs": [
    {
     "data": {
      "text/plain": [
       "77438569.23"
      ]
     },
     "execution_count": 87,
     "metadata": {},
     "output_type": "execute_result"
    }
   ],
   "source": [
    "foresst = RandomForestRegressor()\n",
    "metric = mean_absolute_error\n",
    "train_tesy_model(X,y,0.2,foresst,metric)"
   ]
  },
  {
   "cell_type": "code",
   "execution_count": 86,
   "metadata": {},
   "outputs": [
    {
     "data": {
      "text/plain": [
       "77850956.62"
      ]
     },
     "execution_count": 86,
     "metadata": {},
     "output_type": "execute_result"
    }
   ],
   "source": [
    "gb = GradientBoostingRegressor()\n",
    "metric = mean_absolute_error\n",
    "train_tesy_model(X,y,0.2,gb,metric)"
   ]
  },
  {
   "cell_type": "code",
   "execution_count": null,
   "metadata": {},
   "outputs": [],
   "source": []
  }
 ],
 "metadata": {
  "kernelspec": {
   "display_name": "base",
   "language": "python",
   "name": "python3"
  },
  "language_info": {
   "codemirror_mode": {
    "name": "ipython",
    "version": 3
   },
   "file_extension": ".py",
   "mimetype": "text/x-python",
   "name": "python",
   "nbconvert_exporter": "python",
   "pygments_lexer": "ipython3",
   "version": "3.11.4"
  }
 },
 "nbformat": 4,
 "nbformat_minor": 2
}

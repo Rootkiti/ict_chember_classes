{
 "cells": [
  {
   "cell_type": "code",
   "execution_count": 2,
   "id": "c4e64a11",
   "metadata": {},
   "outputs": [],
   "source": [
    "import sys\n",
    "from sys import getsizeof"
   ]
  },
  {
   "cell_type": "code",
   "execution_count": 3,
   "id": "8215d7d9",
   "metadata": {},
   "outputs": [],
   "source": [
    "one = 1"
   ]
  },
  {
   "cell_type": "code",
   "execution_count": 4,
   "id": "654e63b0",
   "metadata": {},
   "outputs": [
    {
     "data": {
      "text/plain": [
       "int"
      ]
     },
     "execution_count": 4,
     "metadata": {},
     "output_type": "execute_result"
    }
   ],
   "source": [
    "type(one)"
   ]
  },
  {
   "cell_type": "code",
   "execution_count": 5,
   "id": "347d5904",
   "metadata": {},
   "outputs": [],
   "source": [
    "one_string = \"1\""
   ]
  },
  {
   "cell_type": "code",
   "execution_count": 6,
   "id": "889e35bf",
   "metadata": {},
   "outputs": [
    {
     "data": {
      "text/plain": [
       "str"
      ]
     },
     "execution_count": 6,
     "metadata": {},
     "output_type": "execute_result"
    }
   ],
   "source": [
    "type(one_string)"
   ]
  },
  {
   "cell_type": "code",
   "execution_count": 7,
   "id": "fe513b0a",
   "metadata": {},
   "outputs": [
    {
     "data": {
      "text/plain": [
       "28"
      ]
     },
     "execution_count": 7,
     "metadata": {},
     "output_type": "execute_result"
    }
   ],
   "source": [
    "sys.getsizeof(one)"
   ]
  },
  {
   "cell_type": "code",
   "execution_count": 8,
   "id": "845f7cca",
   "metadata": {},
   "outputs": [
    {
     "data": {
      "text/plain": [
       "50"
      ]
     },
     "execution_count": 8,
     "metadata": {},
     "output_type": "execute_result"
    }
   ],
   "source": [
    "sys.getsizeof(one_string)"
   ]
  },
  {
   "cell_type": "code",
   "execution_count": 9,
   "id": "e85834f7",
   "metadata": {},
   "outputs": [],
   "source": [
    "y = 123"
   ]
  },
  {
   "cell_type": "code",
   "execution_count": 10,
   "id": "a0c5b8dd",
   "metadata": {},
   "outputs": [],
   "source": [
    "x = \"2\""
   ]
  },
  {
   "cell_type": "code",
   "execution_count": 11,
   "id": "0314e5ac",
   "metadata": {},
   "outputs": [
    {
     "data": {
      "text/plain": [
       "'222222222222222222222222222222222222222222222222222222222222222222222222222222222222222222222222222222222222222222222222222'"
      ]
     },
     "execution_count": 11,
     "metadata": {},
     "output_type": "execute_result"
    }
   ],
   "source": [
    "x * y"
   ]
  },
  {
   "cell_type": "code",
   "execution_count": 12,
   "id": "3677a1e9",
   "metadata": {},
   "outputs": [
    {
     "ename": "TypeError",
     "evalue": "can only concatenate str (not \"int\") to str",
     "output_type": "error",
     "traceback": [
      "\u001b[0;31m---------------------------------------------------------------------------\u001b[0m",
      "\u001b[0;31mTypeError\u001b[0m                                 Traceback (most recent call last)",
      "Cell \u001b[0;32mIn[12], line 1\u001b[0m\n\u001b[0;32m----> 1\u001b[0m x \u001b[38;5;241m+\u001b[39m y\n",
      "\u001b[0;31mTypeError\u001b[0m: can only concatenate str (not \"int\") to str"
     ]
    }
   ],
   "source": [
    "x + y"
   ]
  },
  {
   "cell_type": "code",
   "execution_count": 13,
   "id": "8ba6e929",
   "metadata": {},
   "outputs": [
    {
     "name": "stdout",
     "output_type": "stream",
     "text": [
      "Multiple of 3\n"
     ]
    }
   ],
   "source": [
    "a = 9\n",
    "if a % 2 == 0:\n",
    "    print(\"Multiple of 2\")\n",
    "elif a % 5 == 0:\n",
    "    print(\"Multiple of 5\")\n",
    "elif a % 4 == 0:\n",
    "    print(\"Multiple of 4\")\n",
    "elif a % 3 == 0:\n",
    "    print(\"Multiple of 3\")\n",
    "else:\n",
    "    print(\"Not a multiple of any\")"
   ]
  },
  {
   "cell_type": "code",
   "execution_count": 14,
   "id": "fae58d1f",
   "metadata": {},
   "outputs": [
    {
     "name": "stdout",
     "output_type": "stream",
     "text": [
      "E\n",
      "m\n",
      "m\n",
      "a\n",
      "n\n",
      "u\n",
      "e\n",
      "l\n"
     ]
    }
   ],
   "source": [
    "name = \"Emmanuel\"\n",
    "for letter in name:\n",
    "    print(letter)"
   ]
  },
  {
   "cell_type": "code",
   "execution_count": 15,
   "id": "15fd349b",
   "metadata": {},
   "outputs": [
    {
     "name": "stdout",
     "output_type": "stream",
     "text": [
      "0\n",
      "1\n",
      "2\n",
      "3\n",
      "4\n",
      "5\n",
      "6\n",
      "7\n",
      "8\n",
      "9\n"
     ]
    }
   ],
   "source": [
    "for value in range(0, 10):\n",
    "    print(value)"
   ]
  },
  {
   "cell_type": "code",
   "execution_count": 16,
   "id": "6fc1d442",
   "metadata": {},
   "outputs": [
    {
     "name": "stdout",
     "output_type": "stream",
     "text": [
      "9\n"
     ]
    }
   ],
   "source": [
    "for value in range(9, 10):\n",
    "    print(value)"
   ]
  },
  {
   "cell_type": "code",
   "execution_count": 17,
   "id": "b1de01d1",
   "metadata": {},
   "outputs": [
    {
     "name": "stdout",
     "output_type": "stream",
     "text": [
      "1\n",
      "3\n",
      "5\n",
      "7\n",
      "9\n"
     ]
    }
   ],
   "source": [
    "for value in range(1, 10, 2):\n",
    "    print(value)"
   ]
  },
  {
   "cell_type": "code",
   "execution_count": 18,
   "id": "ed26c491",
   "metadata": {},
   "outputs": [
    {
     "name": "stdout",
     "output_type": "stream",
     "text": [
      "1\n",
      "5\n",
      "9\n"
     ]
    }
   ],
   "source": [
    "for value in range(1, 10, 4):\n",
    "    print(value)"
   ]
  },
  {
   "cell_type": "code",
   "execution_count": 19,
   "id": "379e7865",
   "metadata": {},
   "outputs": [
    {
     "name": "stdout",
     "output_type": "stream",
     "text": [
      "5\n"
     ]
    }
   ],
   "source": [
    "for value in range(1, 10, 4):\n",
    "    if value % 5 == 0:\n",
    "        print(value)\n",
    "    #print(value)"
   ]
  },
  {
   "cell_type": "code",
   "execution_count": 20,
   "id": "602e4e08",
   "metadata": {},
   "outputs": [],
   "source": [
    "for value in range(1, 100, 25):\n",
    "    if value % 5 == 0:\n",
    "        print(value)\n",
    "    #print(value)"
   ]
  },
  {
   "cell_type": "code",
   "execution_count": 21,
   "id": "e0d8e9b0",
   "metadata": {},
   "outputs": [
    {
     "name": "stdout",
     "output_type": "stream",
     "text": [
      "0\n",
      "25\n",
      "50\n",
      "75\n"
     ]
    }
   ],
   "source": [
    "for value in range(0, 100, 25):\n",
    "    if value % 5 == 0:\n",
    "        print(value)\n",
    "    #print(value)"
   ]
  },
  {
   "cell_type": "code",
   "execution_count": 22,
   "id": "2d269435",
   "metadata": {},
   "outputs": [
    {
     "name": "stdout",
     "output_type": "stream",
     "text": [
      "7\n",
      "8\n",
      "9\n",
      "10\n"
     ]
    }
   ],
   "source": [
    "lower_bound = 6\n",
    "upper_bound = 10\n",
    "\n",
    "while lower_bound < upper_bound:\n",
    "    lower_bound += 1\n",
    "    print(lower_bound)\n",
    "    \n",
    "#print(upper_bound)"
   ]
  },
  {
   "cell_type": "code",
   "execution_count": null,
   "id": "610e4059",
   "metadata": {},
   "outputs": [],
   "source": []
  }
 ],
 "metadata": {
  "kernelspec": {
   "display_name": "Python 3 (ipykernel)",
   "language": "python",
   "name": "python3"
  },
  "language_info": {
   "codemirror_mode": {
    "name": "ipython",
    "version": 3
   },
   "file_extension": ".py",
   "mimetype": "text/x-python",
   "name": "python",
   "nbconvert_exporter": "python",
   "pygments_lexer": "ipython3",
   "version": "3.11.7"
  }
 },
 "nbformat": 4,
 "nbformat_minor": 5
}
